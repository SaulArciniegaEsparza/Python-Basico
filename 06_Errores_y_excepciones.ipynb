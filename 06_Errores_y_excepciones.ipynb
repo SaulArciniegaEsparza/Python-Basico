{
 "cells": [
  {
   "cell_type": "markdown",
   "metadata": {},
   "source": [
    "# **Curso Básico de Python: Errores y Excepciones**\n",
    "\n",
    "___\n",
    "\n",
    "**Saúl Arciniega Esparza** | Ph.D. Profesor Asociado C Tiempo Completo\n",
    "\n",
    "* [Twitter](https://twitter.com/zaul_arciniega) | [LinkedIn](https://www.linkedin.com/in/saularciniegaesparza/) | [ResearchGate](https://www.researchgate.net/profile/Saul-Arciniega-Esparza)\n",
    "* [Hydrogeology Group](https://www.ingenieria.unam.mx/hydrogeology/), [Facultad de Ingeniería de la UNAM](https://www.ingenieria.unam.mx/)\n",
    "___\n",
    "\n",
    "## **Contenido**\n",
    "\n",
    "* [Errores y Excepciones](#Errores-y-excepciones)\n",
    "* [Excepción de errores](#Excepción-de-errores)\n",
    "* [Uso de **raise**](#Uso-de-raise)"
   ]
  },
  {
   "cell_type": "markdown",
   "metadata": {},
   "source": [
    "___\n",
    "# Errores y excepciones\n",
    "\n",
    "[Ir a Inicio](#Contenido)\n",
    "\n",
    "Una parte fundamental de la programación es identificar errores y saber corregirlos, para ello Python suele mandar mensajes acerca del error cometido y de la línea (cuando se trata de un script) en la que occurrió. Por ejemplo"
   ]
  },
  {
   "cell_type": "code",
   "execution_count": null,
   "metadata": {},
   "outputs": [],
   "source": [
    "a  # la variable a no esta definida"
   ]
  },
  {
   "cell_type": "markdown",
   "metadata": {},
   "source": [
    "Algunos de los errores más comunes son:\n",
    "\n",
    "| Error | Descripción |\n",
    "|:-:|:-|\n",
    "|NameError| Surge cuando se llama a una variable que no ha sido previamente definida, ocurre frecuentemente cuando se utilizan muchos condicionales if en los que se define la variable |\n",
    "| TypeError | Surge cuando se utiliza un tipo de variable erróneo, por ejemplo al tratar de sumar una cadena de caracteres con un entero o flotante|\n",
    "| IndexError | Probablemente el más común, ocurre cuando queremos acceder a un elemento de un objeto que almacena información, como una lista, y damos un índice que no existe|\n",
    "|SyntaxError| Otro de los más comunes, ocurren cuando cometemos errores de escritura del código que afectan la estructura del mismo, por ejemplo, cuando olvidamos poner dos puntos al final de una estructura de control|\n",
    "\n",
    "___\n",
    "## Excepción de errores\n",
    "\n",
    "[Ir a Inicio](#Contenido)\n",
    "\n",
    "Abrá momentos en los que por más condiciones que usemos, el código estará propenso a sufrir algún error y paraa evitar que el código se detenga utilizamos una excepción.\n",
    "Para manejar excepciones podemos utilizar **try** seguido de **except**. **try** indica que se intenta ejecutar un bloque de código, si se capta un error **except** permite que se ejecute otro bloque de código.\n",
    "Por ejemplo:"
   ]
  },
  {
   "cell_type": "code",
   "execution_count": null,
   "metadata": {},
   "outputs": [],
   "source": [
    "a = 2\n",
    "b = '3'\n",
    "\n",
    "a + b  # error por tratar de sumar variables int y str"
   ]
  },
  {
   "cell_type": "code",
   "execution_count": null,
   "metadata": {},
   "outputs": [],
   "source": [
    "# ahora manejamos la excepción\n",
    "a = 2\n",
    "b = '3'\n",
    "try:      # tratar de ejecutar este bloque de codigo\n",
    "    c = a + b\n",
    "    print(c)\n",
    "except:   # si se encuentra un error en lo anterior ejecuta esto\n",
    "    print('Se genero un error en la operacion anterior')"
   ]
  },
  {
   "cell_type": "markdown",
   "metadata": {},
   "source": [
    "Incluso se pueden captar diferentes excepciones y ejecutar un bloque de código para cada caso:"
   ]
  },
  {
   "cell_type": "code",
   "execution_count": null,
   "metadata": {},
   "outputs": [],
   "source": [
    "x = 5\n",
    "y = 5\n",
    "#del(y)\n",
    "\n",
    "try:\n",
    "    z = x + y\n",
    "    print(z)\n",
    "except TypeError:\n",
    "    print('Error con el tipo de elementos')\n",
    "except NameError:\n",
    "    print('Alguna de las variables no esta definida')"
   ]
  },
  {
   "cell_type": "markdown",
   "metadata": {},
   "source": [
    "___\n",
    "## Uso de raise\n",
    "\n",
    "[Ir a Inicio](#Contenido)\n",
    "\n",
    "**raise** nos permite mejorar el argumento de una excepción, por ejemplo de un **IndexError**:"
   ]
  },
  {
   "cell_type": "code",
   "execution_count": null,
   "metadata": {},
   "outputs": [],
   "source": [
    "raise IndexError('Ese elemento no existe!')"
   ]
  },
  {
   "cell_type": "markdown",
   "metadata": {},
   "source": [
    "Esto lo podemos implementar para darle más información al usuario de por qué ocurrió algún error:"
   ]
  },
  {
   "cell_type": "code",
   "execution_count": null,
   "metadata": {},
   "outputs": [],
   "source": [
    "lista = [1, 3, 5, 6]\n",
    "indice = 5\n",
    "\n",
    "try:\n",
    "    print(lista[indice])\n",
    "except:\n",
    "    raise IndexError(f'El indice {indice} no existe en la lista')"
   ]
  }
 ],
 "metadata": {
  "kernelspec": {
   "display_name": "Python 3",
   "language": "python",
   "name": "python3"
  },
  "language_info": {
   "codemirror_mode": {
    "name": "ipython",
    "version": 3
   },
   "file_extension": ".py",
   "mimetype": "text/x-python",
   "name": "python",
   "nbconvert_exporter": "python",
   "pygments_lexer": "ipython3",
   "version": "3.7.7"
  }
 },
 "nbformat": 4,
 "nbformat_minor": 4
}
