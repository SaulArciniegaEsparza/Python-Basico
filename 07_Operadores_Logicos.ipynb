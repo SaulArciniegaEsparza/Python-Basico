{
 "cells": [
  {
   "cell_type": "markdown",
   "metadata": {},
   "source": [
    "# **Curso Básico de Python: Operadores Lógicos**\n",
    "\n",
    "___\n",
    "\n",
    "**Saúl Arciniega Esparza** | Ph.D. Profesor Asociado C Tiempo Completo\n",
    "\n",
    "* [Twitter](https://twitter.com/zaul_arciniega) | [LinkedIn](https://www.linkedin.com/in/saularciniegaesparza/) | [ResearchGate](https://www.researchgate.net/profile/Saul-Arciniega-Esparza)\n",
    "* [Hydrogeology Group](https://www.ingenieria.unam.mx/hydrogeology/), [Facultad de Ingeniería de la UNAM](https://www.ingenieria.unam.mx/)\n",
    "___\n",
    "\n",
    "## **Contenido**\n",
    "\n",
    "* [Operadores lógicos](#Operadores-Lógicos)\n",
    "* [Comparaciones simples](#Comparaciones-simples)\n",
    "* [Operadores](#Operador-not,-in,-not-in,-is,-is-not)\n",
    "* [Expresiones compuestas](#Expresiones-compuestas)"
   ]
  },
  {
   "cell_type": "markdown",
   "metadata": {},
   "source": [
    "___\n",
    "# Operadores Lógicos\n",
    "\n",
    "[Ir a Inicio](#Contenido)\n",
    "\n",
    "En este capítulo se presenta el uso de los booleanos, operadóres lógicos, comparaciones y expresiones compuestas.\n",
    "\n",
    "En el capítulo introductorio se mostró que el valor verdadero está dado por True y el falso por False:"
   ]
  },
  {
   "cell_type": "code",
   "execution_count": null,
   "metadata": {},
   "outputs": [],
   "source": [
    "True  # verdadero"
   ]
  },
  {
   "cell_type": "code",
   "execution_count": null,
   "metadata": {},
   "outputs": [],
   "source": [
    "False # falso"
   ]
  },
  {
   "cell_type": "markdown",
   "metadata": {},
   "source": [
    "Los operadores lógicos son operaciones que trabajan con valores booleanos y que permiten evaluar expresiones compuestas o hacer comparaciones entre varios booleanos.\n",
    "\n",
    "| Operador | Descripción |\n",
    "| :-: | :- |\n",
    "| True | Valor verdadero |\n",
    "| False | Valor falso |\n",
    "| bool | Objeto que define a los números booleanos en Python, se utiliza también para crear booleanos |\n",
    "| == | Verifica si dos objetos o variables tienen los mismos valores |\n",
    "| != | Verifica si un elemento es diferente a otro |\n",
    "| > | Verifica si un valor es mayor a otro |\n",
    "| < | Verifica si un valor es menor a otro |\n",
    "| >= | Verifica si un valor es mayor o igual a otro |\n",
    "| <= | Verifica si un valor es menor o igual a otro |\n",
    "| and | Regresa True si dos sentencias son verdaderas |\n",
    "| or | Regresa True si almenos una de las sentencias es verdadera |\n",
    "| not | Cambia el valor de la sentencia True/False o False/True |\n",
    "| in | Verifica si un elemento se encuentra almacenado en un objeto, |\n",
    "| not in | Verifica si un elemento NO está almacenado en un objeto |\n",
    "| is | Verifica si dos variables pertenecen al mismo objeto |\n",
    "| is not | Verifica si dos variables NO pertenecen al mismo objeto |\n",
    "\n",
    "___\n",
    "## Comparaciones simples\n",
    "\n",
    "[Ir a Inicio](#Contenido)"
   ]
  },
  {
   "cell_type": "code",
   "execution_count": null,
   "metadata": {},
   "outputs": [],
   "source": [
    "print(1 == 2)  # verifica si 1 es igual a 2\n",
    "print(1 == 1)  # verifica si 1 es igual a 1\n",
    "print(1.0 == 1.0)  # verifica si 1 es igual a 1"
   ]
  },
  {
   "cell_type": "markdown",
   "metadata": {},
   "source": [
    "En ocaciones se debe de tener cuidado con comparaciones con números flotantes pues las pequeñas variaciones en sus decimales pueden cambiar el resultado:"
   ]
  },
  {
   "cell_type": "code",
   "execution_count": null,
   "metadata": {},
   "outputs": [],
   "source": [
    "(1 + 1e-8) == 1.0  # compara 1.00000001 con 1.0"
   ]
  },
  {
   "cell_type": "code",
   "execution_count": null,
   "metadata": {},
   "outputs": [],
   "source": [
    "print(3 < 5)   # menor que\n",
    "print(3 > 5)   # mayor que\n",
    "print(3 != 5)  # diferente que\n",
    "print(3 <= 3)  # menor igual que\n",
    "print(2 >= 3)  # mayor igual que"
   ]
  },
  {
   "cell_type": "markdown",
   "metadata": {},
   "source": [
    "Algunos de estos operadores aplican también para objetos como listas, tuplas y diccionarios (y más!):"
   ]
  },
  {
   "cell_type": "code",
   "execution_count": null,
   "metadata": {},
   "outputs": [],
   "source": [
    "# ejemplo con listas\n",
    "lista1 = [1, 2, 4, 6]\n",
    "lista2 = [1, 2, 4, 6]\n",
    "lista3 = [1, 0, 4, 6]"
   ]
  },
  {
   "cell_type": "code",
   "execution_count": null,
   "metadata": {},
   "outputs": [],
   "source": [
    "lista1 == lista2"
   ]
  },
  {
   "cell_type": "code",
   "execution_count": null,
   "metadata": {},
   "outputs": [],
   "source": [
    "lista1 == lista3"
   ]
  },
  {
   "cell_type": "code",
   "execution_count": null,
   "metadata": {},
   "outputs": [],
   "source": [
    "lista1 != lista2"
   ]
  },
  {
   "cell_type": "code",
   "execution_count": null,
   "metadata": {},
   "outputs": [],
   "source": [
    "lista1 != lista3"
   ]
  },
  {
   "cell_type": "code",
   "execution_count": null,
   "metadata": {},
   "outputs": [],
   "source": [
    "# Al mismo tiempo podemos comparar elementos dentro de las listas\n",
    "lista1[0] == lista2[0]  # verifica si el primer elemento de la lista1 es igual al primer elemento de la lista2"
   ]
  },
  {
   "cell_type": "code",
   "execution_count": null,
   "metadata": {},
   "outputs": [],
   "source": [
    "# Ejemplo con diccionarios\n",
    "d1 = {'a' : 3, 'b' : 5}\n",
    "d2 = {'a' : 3, 'b' : 5}\n",
    "d3 = {'a' : 3, 'b' : 5, 'c' : 1}\n",
    "\n",
    "print('d1==d2', d1 == d2)\n",
    "print('d1==d3', d1 == d3)\n",
    "\n",
    "print('d1!=d2', d1 != d2)\n",
    "print('d!=d3', d1 != d3)"
   ]
  },
  {
   "cell_type": "markdown",
   "metadata": {},
   "source": [
    "___\n",
    "## Operador not, in, not in, is, is not\n",
    "\n",
    "[Ir a Inicio](#Contenido)"
   ]
  },
  {
   "cell_type": "code",
   "execution_count": null,
   "metadata": {},
   "outputs": [],
   "source": [
    "lista = [1, 2, 4, 6]  # lista de ejemplo\n",
    "d = {'a' : 3, 'b' : 5, 'c' : 1}  # diccionario de ejemplo"
   ]
  },
  {
   "cell_type": "markdown",
   "metadata": {},
   "source": [
    "**not** cambia el valor de un booleano"
   ]
  },
  {
   "cell_type": "code",
   "execution_count": null,
   "metadata": {},
   "outputs": [],
   "source": [
    "not False"
   ]
  },
  {
   "cell_type": "code",
   "execution_count": null,
   "metadata": {},
   "outputs": [],
   "source": [
    "not lista == lista  # vemos que esto equivale a usar !="
   ]
  },
  {
   "cell_type": "markdown",
   "metadata": {},
   "source": [
    "**in** asi como **not in** sirven para ver si un valor está contenido en un objeto:"
   ]
  },
  {
   "cell_type": "code",
   "execution_count": null,
   "metadata": {},
   "outputs": [],
   "source": [
    "print(4 in lista)  # 4 si esta contenido en la lista\n",
    "print(3 in lista)  # 3 no esta contenido en la lista"
   ]
  },
  {
   "cell_type": "code",
   "execution_count": null,
   "metadata": {},
   "outputs": [],
   "source": [
    "print('a' in d)  # verifica si el key 'a' esta contenido en el diccionario\n",
    "print('f' in d)  # verifica si el key 'f' esta contenido en el diccionario"
   ]
  },
  {
   "cell_type": "code",
   "execution_count": null,
   "metadata": {},
   "outputs": [],
   "source": [
    "print(4 not in lista)  # verifica que 4 NO ESTE CONTENIDO en la lista  resultado falso\n",
    "print(3 not in lista)  # verifica que 3 NO ESTE CONTENIDO en la lista  resultado verdadero"
   ]
  },
  {
   "cell_type": "markdown",
   "metadata": {},
   "source": [
    "Entender el funcionamiento de **is** y de **is not** es un poco complicado, pero para ello definimos otras listas:"
   ]
  },
  {
   "cell_type": "code",
   "execution_count": null,
   "metadata": {},
   "outputs": [],
   "source": [
    "lista1 = lista      # realizamos una copia superficial de la lista\n",
    "lista2 = lista1[:]  # realizamos una copia profunda de la lista"
   ]
  },
  {
   "cell_type": "code",
   "execution_count": null,
   "metadata": {},
   "outputs": [],
   "source": [
    "lista is lista1"
   ]
  },
  {
   "cell_type": "code",
   "execution_count": null,
   "metadata": {},
   "outputs": [],
   "source": [
    "lista is lista2"
   ]
  },
  {
   "cell_type": "markdown",
   "metadata": {},
   "source": [
    "En el caso anterior vimos que la primera sentencia fue verdadera y la segunda es falsa, a pesar de que las tres listas tienen los mismos valores:"
   ]
  },
  {
   "cell_type": "code",
   "execution_count": null,
   "metadata": {},
   "outputs": [],
   "source": [
    "lista == lista1"
   ]
  },
  {
   "cell_type": "code",
   "execution_count": null,
   "metadata": {},
   "outputs": [],
   "source": [
    "lista == lista2"
   ]
  },
  {
   "cell_type": "markdown",
   "metadata": {},
   "source": [
    "La diferencia reside en que **is** verifica que el objeto sea el **mismo**, si vemos inidentificador de cada objeto veremos la diferencia:"
   ]
  },
  {
   "cell_type": "code",
   "execution_count": null,
   "metadata": {},
   "outputs": [],
   "source": [
    "id(lista)  # ver identificador de la lista"
   ]
  },
  {
   "cell_type": "code",
   "execution_count": null,
   "metadata": {},
   "outputs": [],
   "source": [
    "id(lista1) # ver identificador de la lista1"
   ]
  },
  {
   "cell_type": "code",
   "execution_count": null,
   "metadata": {},
   "outputs": [],
   "source": [
    "id(lista2) # ver identificador de la lista2"
   ]
  },
  {
   "cell_type": "markdown",
   "metadata": {},
   "source": [
    "Podemos ver que en el caso anterior la lista y la lista1 tienen el mismo id, es decir, son el mismo objeto, mientras que lista2 a pesar de tener los mismos valores es un objeto diferente."
   ]
  },
  {
   "cell_type": "code",
   "execution_count": null,
   "metadata": {},
   "outputs": [],
   "source": [
    "lista is not lista1  # aqui verificamos que no sea el mismo objeto"
   ]
  },
  {
   "cell_type": "code",
   "execution_count": null,
   "metadata": {},
   "outputs": [],
   "source": [
    "lista is not lista2  # aqui verificamos que no sea el mismo objeto"
   ]
  },
  {
   "cell_type": "markdown",
   "metadata": {},
   "source": [
    "El operador **is** es muy útil para verificar el tipo de datos:"
   ]
  },
  {
   "cell_type": "code",
   "execution_count": null,
   "metadata": {},
   "outputs": [],
   "source": [
    "type(1) is int    # verifica si 1 es entero"
   ]
  },
  {
   "cell_type": "code",
   "execution_count": null,
   "metadata": {},
   "outputs": [],
   "source": [
    "type(1.0) is int  # verifica si 1 es entero"
   ]
  },
  {
   "cell_type": "code",
   "execution_count": null,
   "metadata": {},
   "outputs": [],
   "source": [
    "print(type(1.0) is float)  # verifica si es flotante\n",
    "print(type(('a', 'b')) is tuple)  # verifica si es una tupla\n",
    "print(type(['a', 'b']) is list)  # verifica si es una lista\n",
    "print(type('hola') is str)  # verifica si es un string\n",
    "print(type({'a' : 1}) is dict)  # verifica si es diccionario\n",
    "print(type(False) is bool)  # verifica si es booleano"
   ]
  },
  {
   "cell_type": "markdown",
   "metadata": {},
   "source": [
    "___\n",
    "## Expresiones compuestas\n",
    "\n",
    "[Ir a Inicio](#Contenido)\n",
    "\n",
    "Las expresiones compuestas están dadas por dos o más condiciones y para conectarlas usamos los operadores and y or:"
   ]
  },
  {
   "cell_type": "code",
   "execution_count": null,
   "metadata": {},
   "outputs": [],
   "source": [
    "# definamos algunas vairables de ejemplo\n",
    "a = 5\n",
    "b = 5\n",
    "c = 8\n",
    "d = 2"
   ]
  },
  {
   "cell_type": "code",
   "execution_count": null,
   "metadata": {},
   "outputs": [],
   "source": [
    "# aqui tratamos de ver si a es igual a b y al mismo tiempo si es igual a c\n",
    "# a==b da True ya que ambos valen 5\n",
    "# pero a==c es falso\n",
    "# el operador and arroja un False ya que una de las dos condiciones arroja False\n",
    "a==b and a==4"
   ]
  },
  {
   "cell_type": "code",
   "execution_count": null,
   "metadata": {},
   "outputs": [],
   "source": [
    "# el ejemplo anterior lo podemos comparar con el operador or\n",
    "# en este caso, ya que uno de los dos es True, or regresa un True como resultado\n",
    "a==b or a==c"
   ]
  },
  {
   "cell_type": "markdown",
   "metadata": {},
   "source": [
    "Podemos agregar tantas condiciones como querramos en una línea y podemos alternar los oepradores **and** y **or** como deseemos:"
   ]
  },
  {
   "cell_type": "code",
   "execution_count": null,
   "metadata": {
    "scrolled": true
   },
   "outputs": [],
   "source": [
    "a==b or c==d and a==d"
   ]
  },
  {
   "cell_type": "markdown",
   "metadata": {},
   "source": [
    "Del ejemplo anterior se observa que se verifican primero las dos últimas comparaciones, que dan como resultado False:"
   ]
  },
  {
   "cell_type": "code",
   "execution_count": null,
   "metadata": {},
   "outputs": [],
   "source": [
    "c==d and a==d"
   ]
  },
  {
   "cell_type": "markdown",
   "metadata": {},
   "source": [
    "La siguiente comparación es entre a==b or False (resultado de c==d and a==d):"
   ]
  },
  {
   "cell_type": "code",
   "execution_count": null,
   "metadata": {},
   "outputs": [],
   "source": [
    "a==b or False  # da como resultado True ya que a==b da verdadero"
   ]
  },
  {
   "cell_type": "markdown",
   "metadata": {},
   "source": [
    "El programador puede indicar la prioridad de las comparaciones usando paréntesis **()**:"
   ]
  },
  {
   "cell_type": "code",
   "execution_count": null,
   "metadata": {},
   "outputs": [],
   "source": [
    "# en este ejemplo vemos que el resultado es False y esto sucede porque\n",
    "# primero se verifica (a==b or c==d) que da como resultado True\n",
    "# posteriormente se verifica True (del resultado del parentesis) and a==d, que da como resultado False\n",
    "(a==b or c==d) and a==d"
   ]
  }
 ],
 "metadata": {
  "kernelspec": {
   "display_name": "Python 3",
   "language": "python",
   "name": "python3"
  },
  "language_info": {
   "codemirror_mode": {
    "name": "ipython",
    "version": 3
   },
   "file_extension": ".py",
   "mimetype": "text/x-python",
   "name": "python",
   "nbconvert_exporter": "python",
   "pygments_lexer": "ipython3",
   "version": "3.7.7"
  }
 },
 "nbformat": 4,
 "nbformat_minor": 4
}
