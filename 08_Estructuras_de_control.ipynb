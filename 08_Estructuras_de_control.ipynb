{
 "cells": [
  {
   "cell_type": "markdown",
   "metadata": {},
   "source": [
    "# **Curso Básico de Python: Estructuras de control**\n",
    "\n",
    "___\n",
    "\n",
    "**Saúl Arciniega Esparza** | Ph.D. Profesor Asociado C Tiempo Completo\n",
    "\n",
    "* [Twitter](https://twitter.com/zaul_arciniega) | [LinkedIn](https://www.linkedin.com/in/saularciniegaesparza/) | [ResearchGate](https://www.researchgate.net/profile/Saul-Arciniega-Esparza)\n",
    "* [Hydrogeology Group](https://www.ingenieria.unam.mx/hydrogeology/), [Facultad de Ingeniería de la UNAM](https://www.ingenieria.unam.mx/)\n",
    "___\n",
    "\n",
    "**Contenido**\n",
    "\n",
    "* [Estructuras de control](#Estructuras-de-control)\n",
    "* [Estructuras de control iterativas](#Estructuras-de-control-iterativas)\n",
    "* [Crear listas con **range**](#Crear-listas-de-valores-consecutivos-con-range())\n",
    "* [Comprensión de listas](#Comprensión-de-listas)\n",
    "* [Uso de pass, break y continue](#Uso-de-pass,-break-y-continue)\n",
    "* [Múltiples ciclos](#Múltiples-ciclos)"
   ]
  },
  {
   "cell_type": "markdown",
   "metadata": {},
   "source": [
    "___\n",
    "# Estructuras de control\n",
    "Las estructuras de control son bloques de código que permiten agrupar instrucciones de manera controlada. En este capítulo hablaremos de las estructuras de control condicionales (**if**, **elif**, **else**) y las iterativas (**for**, **while**).\n",
    "Pero primero hablaremos de lo que se conoce como la **identación**.\n",
    "\n",
    "### Identación\n",
    "En el lenguaje informático, la identación es similar a una sangría.\n",
    "No todos los lengajes de programación requieren de identación, pero se suele utilizar para darle legibilidad al código.\n",
    "En Python la identación se lleva a cabo dejando 4 espacios en blanco para indicar que un bloque corresponde a la misma estructura.\n",
    "Muchos de las IDE de Python traen integrada una herramienta para convertir las tabulaciones a 4 espacios.\n",
    "\n",
    "### Estructuras de control condicionales\n",
    "Las estructuras de control condicionales nos permiten evaluar si una o mpas condiciones se cumplen, para decir qué acción se va a ejecutar. \n",
    "La evaluación de condiciones requiere de un solo valor, ya sea True o False.\n",
    "La forma más básica de construir una estructura de este tipo es usar únicamente **if**:"
   ]
  },
  {
   "cell_type": "markdown",
   "metadata": {},
   "source": [
    "**Sintaxis de una condicion**\n",
    "\n",
    "```python\n",
    "if condicion:\n",
    "    bloque de codigo\n",
    "```\n",
    "\n",
    "Ejemplos:"
   ]
  },
  {
   "cell_type": "code",
   "execution_count": null,
   "metadata": {},
   "outputs": [],
   "source": [
    "valor = True\n",
    "if(valor):  # despues de cada condicional se deben colocar dos puntos\n",
    "    print('Condicional')  # en este renglon se dejan 4 espacios!"
   ]
  },
  {
   "cell_type": "code",
   "execution_count": null,
   "metadata": {},
   "outputs": [],
   "source": [
    "# La sentencia anterior se puede escribir tambien como\n",
    "valor = True\n",
    "if valor:  # despues de cada condicional se deben colocar dos puntos\n",
    "    print('Condicional')  # en este renglon se dejan 4 espacios!"
   ]
  },
  {
   "cell_type": "code",
   "execution_count": null,
   "metadata": {},
   "outputs": [],
   "source": [
    "# Si el valor es False, entonces no se ejecuta el codigo que se encuentra\n",
    "# en lo bloque del if\n",
    "valor = False\n",
    "if(valor):  # no se ejecuta porque valor es False\n",
    "    print('Condicional')  # en este renglon se dejan 4 espacios!"
   ]
  },
  {
   "cell_type": "markdown",
   "metadata": {},
   "source": [
    "Como vimos en el capítulo de Operadores Lógicos, los booleanos **True** y **False** se pueden obtener de comparaciones:"
   ]
  },
  {
   "cell_type": "code",
   "execution_count": null,
   "metadata": {},
   "outputs": [],
   "source": [
    "a = 3\n",
    "if(a > 3):  # condicional\n",
    "    print('a es mayor a 3')  # codigo dentro del bloque"
   ]
  },
  {
   "cell_type": "markdown",
   "metadata": {},
   "source": [
    "Podemos agregar más condicionales a nuestra estructura si utilizamos **elif**:"
   ]
  },
  {
   "cell_type": "code",
   "execution_count": null,
   "metadata": {},
   "outputs": [],
   "source": [
    "a = 5\n",
    "if(a > 3):  # se ejecuta solo la primer condicional que se cumpla\n",
    "    print('a es mayor a 3')  # codigo dentro del bloque if\n",
    "elif(a == 5):  # segundo condicional\n",
    "    print('a es igual a 5')"
   ]
  },
  {
   "cell_type": "code",
   "execution_count": null,
   "metadata": {},
   "outputs": [],
   "source": [
    "# Se debe tener cuidado con la jerarquia de los condicionales\n",
    "# pue siempre se ejecuta la primer condicion verdadera\n",
    "a = 5\n",
    "if(a == 5):  # condicional esta no se cumple\n",
    "    print('a es igual a 5')  # bloque del if\n",
    "elif(a > 3):  # segundo condicional\n",
    "    print('a es mayor a 3')  # bloque del elif"
   ]
  },
  {
   "cell_type": "markdown",
   "metadata": {},
   "source": [
    "Existe una diferencia entre usar mpultiples **if** o usar **elif**? Sí, mientras que al usar **elif** sólo se ejecuta la primer condicional que se cumpla, al usar múltiples **if** se ejecutarán todos los condicionales por separado, es decir:"
   ]
  },
  {
   "cell_type": "code",
   "execution_count": null,
   "metadata": {},
   "outputs": [],
   "source": [
    "a = 5\n",
    "\n",
    "if(a == 5):  # primer condicional\n",
    "    print('a es igual a 5')  # bloque del if\n",
    "    \n",
    "if(a > 3):  # segundo condicional, aislado del primero\n",
    "    print('a es mayor a 3')  # bloque del if"
   ]
  },
  {
   "cell_type": "markdown",
   "metadata": {},
   "source": [
    "Así mismo se pueden agregar tantos **elif** como se desee después de un **if**:"
   ]
  },
  {
   "cell_type": "code",
   "execution_count": null,
   "metadata": {},
   "outputs": [],
   "source": [
    "a = 5\n",
    "if(a == 1):\n",
    "    print('a es igual a 1')\n",
    "elif(a == 2):\n",
    "    print('a es igual a 2')\n",
    "elif(a == 3):\n",
    "    print('a es igual a 3')\n",
    "elif(a == 4):\n",
    "    print('a es igual a 4')\n",
    "elif(a == 5):  # esta es la que se cumple\n",
    "    print('a es igual a 5')"
   ]
  },
  {
   "cell_type": "markdown",
   "metadata": {},
   "source": [
    "Por otro lado, podemos usar **else** para 'hacer algo' si es que las condiciones anteriores no se cumplieron, por ejemplo"
   ]
  },
  {
   "cell_type": "code",
   "execution_count": null,
   "metadata": {},
   "outputs": [],
   "source": [
    "a = 10\n",
    "if(a == 1):\n",
    "    print('a es igual a 1')\n",
    "elif(a == 2):\n",
    "    print('a es igual a 2')\n",
    "elif(a == 3):\n",
    "    print('a es igual a 3')\n",
    "elif(a == 4):\n",
    "    print('a es igual a 4')\n",
    "elif(a == 5):\n",
    "    print('a es igual a 5')\n",
    "else:\n",
    "    print('a no esta en el rango 1 a 5')"
   ]
  },
  {
   "cell_type": "markdown",
   "metadata": {},
   "source": [
    "Se debe de tener en cuenta que **else** siempre va al FINAL de **if** y **elif**.\n",
    "Tambien se debe recordar que las condiciones pueden ser compuestas:"
   ]
  },
  {
   "cell_type": "code",
   "execution_count": null,
   "metadata": {},
   "outputs": [],
   "source": [
    "a = 0\n",
    "if(a >= 1 and a <= 10):\n",
    "    print('a esta entre 1 y 10')\n",
    "elif(a > 10):\n",
    "    print('a mayor a 10')\n",
    "else:\n",
    "    print('Ninguna de las anteriores!')"
   ]
  },
  {
   "cell_type": "markdown",
   "metadata": {},
   "source": [
    "___\n",
    "## Estructuras de control iterativas\n",
    "Son llamadas también estructuras ciclicas o bucles.\n",
    "Ellas nos permiten ejecutar una parte del código de manera repetida, mientras se cumpla una condición o mientras se tengan elementos para iterar.\n",
    "\n",
    "### Bucle while\n",
    "Este bucle se encarga de ejecutar la misma acción *mientras que* una determinada condición se cumpla, por ejemplo:"
   ]
  },
  {
   "cell_type": "code",
   "execution_count": null,
   "metadata": {
    "scrolled": true
   },
   "outputs": [],
   "source": [
    "a = 0\n",
    "while a < 11:\n",
    "    print('a = {} es menor a 10'.format(a))\n",
    "    a += 1  # sumar 1 a la variable 1"
   ]
  },
  {
   "cell_type": "code",
   "execution_count": null,
   "metadata": {},
   "outputs": [],
   "source": [
    "a"
   ]
  },
  {
   "cell_type": "markdown",
   "metadata": {},
   "source": [
    "En el ejemplo anterior, vimos que el código se ejecuto para todos aquellos valores menores a 10, tal como lo establece la condición a < 10.\n",
    "Se debe de tener mucho cuidado cuando se establece la condición del ciclo while, ya que si esta nunca se vuelve False entonces el ciclo se repetirá indefinidamente.\n",
    "\n",
    "En este otro ejemplo vemos que podemos usar while junto con input para pedir un valor hasta que se compla una condición:"
   ]
  },
  {
   "cell_type": "code",
   "execution_count": null,
   "metadata": {},
   "outputs": [],
   "source": [
    "cond = True  # forzamos a que la condicion sea verdadera\n",
    "\n",
    "while cond:\n",
    "    val = input('Variable (0 a 10): ')  # pedir una variable\n",
    "    val = float(val)  # convertir texto a flotante\n",
    "    # Ahora colocamos una condicion para salir del bucle while\n",
    "    if(val >= 0 and val <= 10):\n",
    "        cond = False  # forzamos a que la condicion sea falsa para\n",
    "        # salir del ciclo\n",
    "    else:\n",
    "        print('Se debe ingresar un valor entre 0 y 10')"
   ]
  },
  {
   "cell_type": "markdown",
   "metadata": {},
   "source": [
    "### Bucle for\n",
    "El bucle **for** nos permite iterar sobre un objeto iterable, como las listas, tuplas, diccionarios, etc.\n",
    "En cada iteración, **for** nos permite variar el elemento dentro del objeto iterable, por ejemplo:"
   ]
  },
  {
   "cell_type": "code",
   "execution_count": null,
   "metadata": {},
   "outputs": [],
   "source": [
    "lista = [1, 2, 3, 4, 5]  # lista de ejemplo \n",
    "\n",
    "# Para crear nuestro ciclo for primero indicamos la variable que\n",
    "# va a cambiar en cada paso\n",
    "# Despues va la palabra in\n",
    "# Despues nuestro objeto con elementos\n",
    "\n",
    "for i in lista:\n",
    "    print(i+10)  # i va a tomar cada elemento contenido en lista"
   ]
  },
  {
   "cell_type": "code",
   "execution_count": null,
   "metadata": {},
   "outputs": [],
   "source": [
    "# podemos iterar texto\n",
    "texto = 'Hola mundo!'\n",
    "for j in texto:\n",
    "    print(j)"
   ]
  },
  {
   "cell_type": "code",
   "execution_count": null,
   "metadata": {},
   "outputs": [],
   "source": [
    "# podemos combinar estructuras condicionales e iterativas\n",
    "tupla = (1, 3, 5, 6, 10)\n",
    "for x in tupla:\n",
    "    if(x > 4):  # solo imprimir valores mayores a 4\n",
    "        print('valor: ', x)"
   ]
  },
  {
   "cell_type": "markdown",
   "metadata": {},
   "source": [
    "Para iterar elementos en los diccionatios se puede utilizar el método .iteritems():"
   ]
  },
  {
   "cell_type": "code",
   "execution_count": null,
   "metadata": {
    "scrolled": true
   },
   "outputs": [],
   "source": [
    "d = {'a1' : 1, 'b' : 5, 'c' : 10}  # diccionario de ejemplo\n",
    "\n",
    "# cuando usamos .iteritems() se regresa un par de variables,\n",
    "# la primera conrresponde al key\n",
    "# la segunda al valor\n",
    "for key, value in d.items():\n",
    "    print(key, value)  # imprimir key y value"
   ]
  },
  {
   "cell_type": "markdown",
   "metadata": {},
   "source": [
    "___\n",
    "## Crear listas de valores consecutivos con range()\n",
    "Range es un comando interno de Python que nos permite generar un objeto de números enteros consecutivos, el cual se puede utilizar dentro lo bucles."
   ]
  },
  {
   "cell_type": "code",
   "execution_count": null,
   "metadata": {},
   "outputs": [],
   "source": [
    "print(list(range(11)))  # definimos una lista de elementos que va de 0 al 10\n",
    "# en range no se toma en cuenta al ultimo valor, en este caso 11"
   ]
  },
  {
   "cell_type": "code",
   "execution_count": null,
   "metadata": {},
   "outputs": [],
   "source": [
    "print(list(range(2, 11)))  # definimos una lista que va de 2 a 10"
   ]
  },
  {
   "cell_type": "code",
   "execution_count": null,
   "metadata": {},
   "outputs": [],
   "source": [
    "print(list(range(3, 22, 2)))  # definimos una lista que va de 2 en 2 del 3 hasta el 20"
   ]
  },
  {
   "cell_type": "code",
   "execution_count": null,
   "metadata": {},
   "outputs": [],
   "source": [
    "# ahora lo usamos dentro de un bucle for\n",
    "for i in range(1, 21):  # definimos una iteracion que va del 2 al 18 de 3 en 3\n",
    "    print(i)"
   ]
  },
  {
   "cell_type": "code",
   "execution_count": null,
   "metadata": {
    "scrolled": true
   },
   "outputs": [],
   "source": [
    "folder = [\"C:/pozo1.csv\", \"C:/data/pozo2.csv\"]\n",
    "constante = [1, 2]\n",
    "\n",
    "for i in range(0, len(folder)):\n",
    "    print(\"i:\", i)\n",
    "    print(folder[i])\n",
    "    print(constante[i])\n"
   ]
  },
  {
   "cell_type": "markdown",
   "metadata": {},
   "source": [
    "___\n",
    "## Comprensión de listas\n",
    "En Python se pueden realizar operaciones de un ciclo **for** en una línea, cuyos resultados se almacenan en una lista, esto sirve para compactar el código.\n",
    "\n",
    "Tenemos por ejemplo una lista a la cual le queremos sumar 2 a todos sus elementos:"
   ]
  },
  {
   "cell_type": "code",
   "execution_count": null,
   "metadata": {},
   "outputs": [],
   "source": [
    "# usando el ciclo for\n",
    "lista1 = [1, 2, 3, 4]  # definimos la lista de ejemplo\n",
    "lista2 = []  # definimos una lista vacia\n",
    "for i in lista1:\n",
    "    lista2.append(i + 2)  # le sumamos 2 a cada elemento\n",
    "print(lista2)"
   ]
  },
  {
   "cell_type": "code",
   "execution_count": null,
   "metadata": {},
   "outputs": [],
   "source": [
    "# ahora definimos todo en una lista\n",
    "lista1 = [1, 2, 3, 4]  # definimos la lista de ejemplo\n",
    "lista2 = [i + 2 for i in lista1]  # se define el ciclo dentro de la lista\n",
    "print(lista2)"
   ]
  },
  {
   "cell_type": "markdown",
   "metadata": {},
   "source": [
    "Podemos incluso hacer operaciones más complejas:"
   ]
  },
  {
   "cell_type": "code",
   "execution_count": null,
   "metadata": {},
   "outputs": [],
   "source": [
    "lista1 = [1, 2, 3, 4]  # definimos la lista de ejemplo\n",
    "lista2 = [[i, i + 2] for i in lista1]\n",
    "print(lista2)"
   ]
  },
  {
   "cell_type": "markdown",
   "metadata": {},
   "source": [
    "___\n",
    "## Uso de pass, break y continue\n",
    "Existen comandos especiales que nos permiten ponerle fin a un ciclo o simplemente evitan que se ejecute cierto bloque del programa.\n",
    "\n",
    "El comando **pass** nos sirve para indicarle a Python que no haga nada en ese bloque, es decir, cuando creamos un bloque estamos obligados a dar una instrucción ya que si no genera un error. Con **pass** podemos evitarlo:"
   ]
  },
  {
   "cell_type": "code",
   "execution_count": null,
   "metadata": {},
   "outputs": [],
   "source": [
    "if(True):\n",
    "    pass  # en este caso creamos el bloque, pero no hacemos nada!"
   ]
  },
  {
   "cell_type": "markdown",
   "metadata": {},
   "source": [
    "Los comandos **break** y **continue** son utilizados dentro de los bucles **while** y **for**.\n",
    " - **break**: termina el ciclo del bloque actual\n",
    " - **continue**: termina la iteración actual y se pasa a la siguiente"
   ]
  },
  {
   "cell_type": "code",
   "execution_count": null,
   "metadata": {},
   "outputs": [],
   "source": [
    "# Uso de break para interrumpir un ciclo que podria ser infinito\n",
    "cnt = 0\n",
    "\n",
    "# notese que en ningun momento la condicion de while no cambia nunca\n",
    "# pero break interrumpe el ciclo\n",
    "while True:\n",
    "    print(cnt)\n",
    "    cnt += 1\n",
    "    if(cnt > 20):\n",
    "        break"
   ]
  },
  {
   "cell_type": "code",
   "execution_count": null,
   "metadata": {},
   "outputs": [],
   "source": [
    "# Ahora vemos el funcionamiento de continue\n",
    "for i in range(1,21):\n",
    "    if(i == 10):\n",
    "        continue\n",
    "    print(i)\n",
    "\n",
    "# notese en el ejemplo que cuando llega i=10 el ciclo no se interrumpe,\n",
    "# pero el valor de i=10 no se imprime porque nos estamos saltando a la\n",
    "# siguiente iteracion!"
   ]
  },
  {
   "cell_type": "code",
   "execution_count": null,
   "metadata": {},
   "outputs": [],
   "source": [
    "# Algo muy diferente ocurre cuando insertamos break en el ejemplo anterior\n",
    "for i in range(1,21):\n",
    "    if(i == 10):\n",
    "        break\n",
    "    print(i)\n",
    "\n",
    "# en este caso el ciclo se interrumpe cuando i vale 10"
   ]
  },
  {
   "cell_type": "markdown",
   "metadata": {},
   "source": [
    "___\n",
    "## Múltiples ciclos\n",
    "Para muchos propósitos es necesario aplicar varios ciclos a la vez, para ello sólo se deja el espacio adecuado para identar cada bloque:"
   ]
  },
  {
   "cell_type": "code",
   "execution_count": null,
   "metadata": {},
   "outputs": [],
   "source": [
    "lista = [[1, 2, 3], [5, 6, 7], [8, 9, 10]]\n",
    "\n",
    "for row in lista:  # iteramos sobre cada renglon\n",
    "    for col in row:  # iteramos sobre cada columnas\n",
    "        print(col)  # imprimimos el valor"
   ]
  },
  {
   "cell_type": "code",
   "execution_count": null,
   "metadata": {},
   "outputs": [],
   "source": [
    "# Otra forma de escribir el ejemplo anterior es\n",
    "lista = [[1, 2], [5, 6, 7], [8, 9, 10, 20]]\n",
    "rows = len(lista)     # obtenemos numero de renglones\n",
    "\n",
    "for i in range(rows):\n",
    "    cols = len(lista[i])  # obtenemos numero de columnas\n",
    "    for j in range(cols):\n",
    "        print(lista[i][j])  # llamamos valor por valor de la lista"
   ]
  },
  {
   "cell_type": "code",
   "execution_count": null,
   "metadata": {},
   "outputs": [],
   "source": [
    "lista = [[1, 2], [5, 6], [8, 9]]\n",
    "print(len(lista))\n",
    "len(lista[1])"
   ]
  }
 ],
 "metadata": {
  "kernelspec": {
   "display_name": "Python 3",
   "language": "python",
   "name": "python3"
  },
  "language_info": {
   "codemirror_mode": {
    "name": "ipython",
    "version": 3
   },
   "file_extension": ".py",
   "mimetype": "text/x-python",
   "name": "python",
   "nbconvert_exporter": "python",
   "pygments_lexer": "ipython3",
   "version": "3.7.7"
  }
 },
 "nbformat": 4,
 "nbformat_minor": 4
}
