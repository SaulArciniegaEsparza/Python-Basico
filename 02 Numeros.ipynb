{
 "cells": [
  {
   "cell_type": "markdown",
   "metadata": {},
   "source": [
    "# **Curso Básico de Python: Números**\n",
    "\n",
    "___\n",
    "\n",
    "**Saúl Arciniega Esparza** | Ph.D. Profesor Asociado C Tiempo Completo\n",
    "\n",
    "* [Twitter](https://twitter.com/zaul_arciniega) | [LinkedIn](https://www.linkedin.com/in/saularciniegaesparza/) | [ResearchGate](https://www.researchgate.net/profile/Saul-Arciniega-Esparza)\n",
    "* [Hydrogeology Group](https://www.ingenieria.unam.mx/hydrogeology/), [Facultad de Ingeniería de la UNAM](https://www.ingenieria.unam.mx/)\n",
    "___\n",
    "\n",
    "**Contenido**\n",
    "\n",
    "* [Python como calculadora](#Python-como-calculadora)\n",
    "* [Formato de numéros](#Formato-de-impresión-de-números-y-caracteres)\n",
    "* [Funciones matemáticas](#Funciones-matemáticas)"
   ]
  },
  {
   "cell_type": "markdown",
   "metadata": {},
   "source": [
    "___\n",
    "## Python como calculadora"
   ]
  },
  {
   "cell_type": "markdown",
   "metadata": {},
   "source": [
    "El intérprete de Python se puede utilizar como una calculadora en la que se puede agregar una expresión algebráica. \n",
    "La sintaxis es sencilla y los operadores **+**, **-**,** * **y **/** funcionan como en la mayoría de los lengajes, en donde los paréntesis **()** pueden ser utilizados para agrupar operaciones."
   ]
  },
  {
   "cell_type": "code",
   "execution_count": null,
   "metadata": {},
   "outputs": [],
   "source": [
    "print(2 + 2)   # suma\n",
    "print(3 - 4)   # resta\n",
    "print(6 * 2)   # multiplicacion\n",
    "print(10 / 2)  # division\n",
    "print(3 ** 4)  # potencia"
   ]
  },
  {
   "cell_type": "markdown",
   "metadata": {},
   "source": [
    "En Python 2.x se debe de tener cuidado con las operaciones con números enteros, ya que la división entre dos números enteros genera el resultados inesperados:"
   ]
  },
  {
   "cell_type": "code",
   "execution_count": null,
   "metadata": {},
   "outputs": [],
   "source": [
    "print(6 / 3)\n",
    "print(5 / 3)\n",
    "print(2 / 4)"
   ]
  },
  {
   "cell_type": "markdown",
   "metadata": {},
   "source": [
    "Como regla general, siempre que se realiza una operación binaria en la que alguno de los elementos es flotante, e resultado será flotante:"
   ]
  },
  {
   "cell_type": "code",
   "execution_count": null,
   "metadata": {},
   "outputs": [],
   "source": [
    "print( 2 + 2.)\n",
    "print( 3. - 4)\n",
    "print( 10 / 3.)\n",
    "print( 3 ** 4.135)"
   ]
  },
  {
   "cell_type": "markdown",
   "metadata": {},
   "source": [
    "### Uso de paréntesis"
   ]
  },
  {
   "cell_type": "markdown",
   "metadata": {},
   "source": [
    "Los paréntesis ayudan a estructurar las operaciones algebráicas para obtener los resultados que deseamos.\n",
    "Se debe de recordar que se realizan primero las operaciones de mayor jerarquía:\n",
    " 1. Potencias\n",
    " 2. Multiplicaciones\n",
    " 3. Divisiones\n",
    " 4. Adiciones\n",
    " 5. Sustracciones\n",
    "\n",
    "\n",
    "Por ejemplo si se quisiera obtener -3 elevado al cuadrado:"
   ]
  },
  {
   "cell_type": "code",
   "execution_count": null,
   "metadata": {},
   "outputs": [],
   "source": [
    "print(-3**2)    # en este caso la potencia tiene prioridad sobre -, por lo que no se obtiene el resultado deseado\n",
    "print((-3)**2)  # con el parentesis se obtiene el resultado esperado"
   ]
  },
  {
   "cell_type": "markdown",
   "metadata": {},
   "source": [
    "Los paréntesis ayudan a estructurar ecuaciones muy extensas:"
   ]
  },
  {
   "cell_type": "code",
   "execution_count": null,
   "metadata": {
    "scrolled": true
   },
   "outputs": [],
   "source": [
    "print((4 + 6 + 3.0) ** 1.5 / (4.5 - 1.5 + (8.9 / 10.) ** 2.))"
   ]
  },
  {
   "cell_type": "markdown",
   "metadata": {},
   "source": [
    "___\n",
    "## Formato de impresión de números y caracteres "
   ]
  },
  {
   "cell_type": "markdown",
   "metadata": {},
   "source": [
    "Se comentó previamente que **print** se utiliza para imprimir resultados en la terminal, sin embargo cuando se utiliza sin ningún formato los números se imprimen usando una gran cantidad de decimales. Para evitar lo anterior se le puede asignar un formato de impresión a los números, para ello existen diferentes formas:\n",
    " \n",
    " 1. Se utilizan llaves **{}** dentro de una cadena de texto para indicar la posición de los elementos a imprimir. Funciona para **cualquier versión** de Python.\n",
    " 2. Se utiliza **%** seguido de una serie de argumentos. Funciona para **cualquier versión** de Python.\n",
    " 3. Se utiliza la sintaxis f\"{valor}\". Funciona para versiones de **Python >= 3.6**\n",
    " \n",
    " Para el primer caso se muestran algunos ejemplos:"
   ]
  },
  {
   "cell_type": "code",
   "execution_count": null,
   "metadata": {},
   "outputs": [],
   "source": [
    "print('{} es un entero'.format(5))            # imprimir un entero\n",
    "print('{} es un flotante'.format(5.125))      # imprimir un flotante\n",
    "print('{} es un texto'.format('Hola mundo'))  # Imprimir una cadena de texto"
   ]
  },
  {
   "cell_type": "markdown",
   "metadata": {},
   "source": [
    "También se pueden imprimir varios elementos al mismo tiempo, en donde cada elemento se imprime según el orden en que aparecen en **format()**:"
   ]
  },
  {
   "cell_type": "code",
   "execution_count": null,
   "metadata": {},
   "outputs": [],
   "source": [
    "print('a = {}, b = {}, t = {}'.format(10, 5.125, 'Hola mundo'))"
   ]
  },
  {
   "cell_type": "markdown",
   "metadata": {},
   "source": [
    "O se pueden realizar operaciones dentro de **format()**:"
   ]
  },
  {
   "cell_type": "code",
   "execution_count": null,
   "metadata": {},
   "outputs": [],
   "source": [
    "print('resultado = {}'.format(10.25/4.25))"
   ]
  },
  {
   "cell_type": "markdown",
   "metadata": {},
   "source": [
    "La otra forma de asignar formatos a los números será la que se llevará en todo el curso, aunque el estudiante puede usar cualquiera de los dos, según le convenga. La sintaxis del segundo estilo es:"
   ]
  },
  {
   "cell_type": "code",
   "execution_count": null,
   "metadata": {},
   "outputs": [],
   "source": [
    "print('%d'%(101))             # imprimir un entero\n",
    "print('%.2f'%(5.125))       # imprimir un flotante\n",
    "print('%s'%('Hola mundo'))  # Imprimir una cadena de texto\n",
    "print('a = %d, b = %.4f, t = %s'%(5, 5.125, 'Hola mundo'))  # imprimir varios resultados\n",
    "print('resultado = %.4f'%(10.25/4.25))  # imprimir un resultado"
   ]
  },
  {
   "cell_type": "markdown",
   "metadata": {},
   "source": [
    "La tercera sintaxis es la más recomendada ya que es más rápida en comparación con las otras:"
   ]
  },
  {
   "cell_type": "code",
   "execution_count": null,
   "metadata": {},
   "outputs": [],
   "source": [
    "print(f'{5} es un entero')            # imprimir un entero\n",
    "print(f'{5.125} es un flotante')      # imprimir un flotante\n",
    "print(f\"{'Hola Mundo'} es un texto\")  # Imprimir una cadena de texto"
   ]
  },
  {
   "cell_type": "markdown",
   "metadata": {},
   "source": [
    "Nótese que se utilizan diferentes argumentos después de % para indicar distintos tipos de datos por imprimir, de los cuales los más utilizados son:"
   ]
  },
  {
   "cell_type": "markdown",
   "metadata": {},
   "source": [
    "| Formato | Descripción |\n",
    "|:-:|:-|\n",
    "|  %d  | Número entero                       |\n",
    "| %.nf | Número flotante con n decimales     |\n",
    "| %.ne | Notación científica con n decimales |\n",
    "|  %g  | Número flotante sin formato         |\n",
    "|  %s  | Cadena de texto                     |"
   ]
  },
  {
   "cell_type": "markdown",
   "metadata": {},
   "source": [
    "Así mismo otros argumentos se pueden insertar para mejorar la impresión de los resultados, tales como:"
   ]
  },
  {
   "cell_type": "markdown",
   "metadata": {},
   "source": [
    "|Formato|Descripción|\n",
    "|:-:|:-|\n",
    "|%10.5f| Usar un número entero después de % indica cuántos espacios se van a dejar antes de imprimir el resultado|\n",
    "|%+d| Usar + después de % indica a Python que imprima el signo del número|\n",
    "|\\t| Utiliza un tabulador de espacio|\n",
    "|\\n| Salto de linea|\n"
   ]
  },
  {
   "cell_type": "markdown",
   "metadata": {},
   "source": [
    "El formato de texto se puede almacenar dentro de una variable que no necesariamente se utilizará para imprimirse en la terminal, por lo que será de gran utilidad para realizar anotaciones en gráficas, como por ejemplo:"
   ]
  },
  {
   "cell_type": "code",
   "execution_count": null,
   "metadata": {
    "scrolled": true
   },
   "outputs": [],
   "source": [
    "ecuacion = 'Y = %+.4f X %+.4f \\nr2 = %g'%(6.4135,-45.1254,0.569) \n",
    "print(ecuacion)"
   ]
  },
  {
   "cell_type": "markdown",
   "metadata": {},
   "source": [
    "Podemos utilizar otra sintaxis:"
   ]
  },
  {
   "cell_type": "code",
   "execution_count": null,
   "metadata": {},
   "outputs": [],
   "source": [
    "ecuacion = 'Y = {:+.4f} X {:+.4f} \\nr2 = {}'.format(6.4135,-45.1254,0.569) \n",
    "print(ecuacion)"
   ]
  },
  {
   "cell_type": "markdown",
   "metadata": {},
   "source": [
    "___\n",
    "## Funciones matemáticas\n",
    "\n",
    "Existen muchas librerías de Python para trabajar con números, una de la más útil es la librería interna [**math**](https://www.w3schools.com/python/module_math.asp) que nos permite trabajar con funciones matemáticas."
   ]
  },
  {
   "cell_type": "code",
   "execution_count": null,
   "metadata": {},
   "outputs": [],
   "source": [
    "import math\n",
    "\n",
    "math.cos(2.5)  # coseno de 2.5"
   ]
  },
  {
   "cell_type": "markdown",
   "metadata": {},
   "source": [
    "Para ver todas las funciones disponibles en esta librebía podemos usar:"
   ]
  },
  {
   "cell_type": "code",
   "execution_count": null,
   "metadata": {},
   "outputs": [],
   "source": [
    "dir(math)"
   ]
  }
 ],
 "metadata": {
  "kernelspec": {
   "display_name": "Python 3",
   "language": "python",
   "name": "python3"
  },
  "language_info": {
   "codemirror_mode": {
    "name": "ipython",
    "version": 3
   },
   "file_extension": ".py",
   "mimetype": "text/x-python",
   "name": "python",
   "nbconvert_exporter": "python",
   "pygments_lexer": "ipython3",
   "version": "3.7.7"
  }
 },
 "nbformat": 4,
 "nbformat_minor": 4
}
