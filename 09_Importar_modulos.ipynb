{
 "cells": [
  {
   "cell_type": "markdown",
   "metadata": {},
   "source": [
    "# **Curso Básico de Python: Importando Módulos**\n",
    "\n",
    "___\n",
    "\n",
    "**Saúl Arciniega Esparza** | Ph.D. Profesor Asociado C Tiempo Completo\n",
    "\n",
    "* [Twitter](https://twitter.com/zaul_arciniega) | [LinkedIn](https://www.linkedin.com/in/saularciniegaesparza/) | [ResearchGate](https://www.researchgate.net/profile/Saul-Arciniega-Esparza)\n",
    "* [Hydrogeology Group](https://www.ingenieria.unam.mx/hydrogeology/), [Facultad de Ingeniería de la UNAM](https://www.ingenieria.unam.mx/)\n",
    "___\n",
    "\n",
    "**Contenido**\n",
    "\n",
    "* [Importando módulos](#Importando-Módulos-en-Python)\n",
    "* [Uso de alias](#Uso-de-alias)\n",
    "* [Función **dir**](#Función-dir())\n",
    "* [Función **help**](#Función-help())\n",
    "* [Alias más comúnes](#Alias-más-comúnes)"
   ]
  },
  {
   "cell_type": "markdown",
   "metadata": {},
   "source": [
    "___\n",
    "# Importando Módulos en Python\n",
    "Un módulo puede contener declaraciones ejecutables, funciones, constantes, objetos, entre otas cosas. Estas declaraciones están pensadas para iniciar el módulo y se ejecuta únicamente la primera vez que se importa en algún lado.\n",
    "\n",
    "Para importar un módulo simplemente se utiliza la palabra **import** antes del nombre del módulo, por ejemplo si queremos importar el módulo de matemáticas que incluye por defecto python, simplemente usamos:"
   ]
  },
  {
   "cell_type": "code",
   "execution_count": null,
   "metadata": {},
   "outputs": [],
   "source": [
    "import math"
   ]
  },
  {
   "cell_type": "code",
   "execution_count": null,
   "metadata": {},
   "outputs": [],
   "source": [
    "math"
   ]
  },
  {
   "cell_type": "markdown",
   "metadata": {},
   "source": [
    "Una vez hecho esto podemos usar todas las funciones contenidas en el módulo al usar la sintaxis **nombre_modulo.funcion**, por ejemplo si queremos aplicar el exponencial de algún número usamos:"
   ]
  },
  {
   "cell_type": "code",
   "execution_count": null,
   "metadata": {
    "scrolled": true
   },
   "outputs": [],
   "source": [
    "print(math.exp(3.2))  # exponenical de 3.2"
   ]
  },
  {
   "cell_type": "code",
   "execution_count": null,
   "metadata": {},
   "outputs": [],
   "source": [
    "exp(3.2)"
   ]
  },
  {
   "cell_type": "markdown",
   "metadata": {},
   "source": [
    "Recordar que al precionar dos veces la tecla *tabulador* después de **nombre_modulo.** podemos acceder a una lista de todas las funciones dentro del módulo.\n",
    "\n",
    "Hay una variante en la declaración **import** que importa sólo los nombres de los módulos que necesitmamos, por ejemplo:"
   ]
  },
  {
   "cell_type": "code",
   "execution_count": null,
   "metadata": {
    "scrolled": true
   },
   "outputs": [],
   "source": [
    "from math import exp, log\n",
    "\n",
    "print(exp(3.2))  # exponencial de 3.2\n",
    "print(log(3.2))  # logaritmo natural de 3.2"
   ]
  },
  {
   "cell_type": "markdown",
   "metadata": {},
   "source": [
    "Nótese que en el caso anterior no fue necesario utilizar el nombre báse de módulo, es decir no ocupamos escribir **math.exp**.\n",
    "Este tipo de importación es muy útil cuando sólo queremos utilizar algunas funciones dentro del módulo, o cuando el módulo contiene una gran cantidad de funciones, en este último caso la importación hace lento el proceso o en ocaciones produce errores.\n",
    "\n",
    "En otro caso podemos importar todos los nombres que un módulo define:"
   ]
  },
  {
   "cell_type": "code",
   "execution_count": null,
   "metadata": {},
   "outputs": [],
   "source": [
    "from math import *  # importar todos los nombres del modulo math\n",
    "\n",
    "print(factorial(4))  # factorial de 4 (tampoco se utiliza el nombre del modulo: math.factorial)"
   ]
  },
  {
   "cell_type": "code",
   "execution_count": null,
   "metadata": {},
   "outputs": [],
   "source": [
    "cos(3.1416)"
   ]
  },
  {
   "cell_type": "markdown",
   "metadata": {},
   "source": [
    "___\n",
    "## Uso de alias\n",
    "Es posible además, abreviar los módulos mediante un *alias*. Para ello se asigna la palabra clave **as** seguida del alias con el cuál nos referiremos, por ejemplo:"
   ]
  },
  {
   "cell_type": "code",
   "execution_count": null,
   "metadata": {},
   "outputs": [],
   "source": [
    "import math as m   # le asignamos el alias matematicas al modulo math\n",
    "\n",
    "print(m.exp(3.2))  # calcular exponencial"
   ]
  },
  {
   "cell_type": "markdown",
   "metadata": {},
   "source": [
    "Adicionalmente podemos asociarle un alias directamente a la función dentro del módulo:"
   ]
  },
  {
   "cell_type": "code",
   "execution_count": null,
   "metadata": {},
   "outputs": [],
   "source": [
    "from math import exp as exponencial  # importar exp de math como exponencial\n",
    "\n",
    "print(exponencial(3.2))  # calcular exponencial"
   ]
  },
  {
   "cell_type": "markdown",
   "metadata": {},
   "source": [
    "Cuando tratamos de importar un módulo dentro de una librería o paquete de módulos, podemos utilizar un alias, por ejemplo, si queremos usar el módulo **path** dentro de la librería **os**, podemos usar:"
   ]
  },
  {
   "cell_type": "code",
   "execution_count": null,
   "metadata": {},
   "outputs": [],
   "source": [
    "import os.path as ruta  # importar al modulo path dentro de os como ruta\n",
    "\n",
    "print(ruta.splitext('texto.txt'))  # separar nombre  de archivo y extension"
   ]
  },
  {
   "cell_type": "markdown",
   "metadata": {},
   "source": [
    "___\n",
    "## Función dir()\n",
    "La función integrada **dir()** se usa para obtener qué funciones y submódulos dentro de un módulo."
   ]
  },
  {
   "cell_type": "code",
   "execution_count": null,
   "metadata": {
    "scrolled": true
   },
   "outputs": [],
   "source": [
    "import math\n",
    "\n",
    "dir(math)"
   ]
  },
  {
   "cell_type": "markdown",
   "metadata": {},
   "source": [
    "Cuando se usa **dir()** sin nungun argumento se obtienen las variables actualmente definidas y los módulos importados:"
   ]
  },
  {
   "cell_type": "code",
   "execution_count": null,
   "metadata": {
    "scrolled": true
   },
   "outputs": [],
   "source": [
    "dir()"
   ]
  },
  {
   "cell_type": "markdown",
   "metadata": {},
   "source": [
    "___\n",
    "## Función help()\n",
    "Se puede utilizar la función **help()** para obtener la información de alguna función o módulo, por ejemplo:"
   ]
  },
  {
   "cell_type": "code",
   "execution_count": null,
   "metadata": {},
   "outputs": [],
   "source": [
    "import math\n",
    "\n",
    "help(math)"
   ]
  },
  {
   "cell_type": "markdown",
   "metadata": {},
   "source": [
    "Si nos interesa sólo la información de determinada función podemos usar:"
   ]
  },
  {
   "cell_type": "code",
   "execution_count": null,
   "metadata": {
    "scrolled": true
   },
   "outputs": [],
   "source": [
    "help(exp)  # para acceder a la ayuda no se utilizan paréntesis al final"
   ]
  },
  {
   "cell_type": "code",
   "execution_count": null,
   "metadata": {},
   "outputs": [],
   "source": [
    "exp?"
   ]
  },
  {
   "cell_type": "markdown",
   "metadata": {},
   "source": [
    "Lo anterior aplica también cuando a la función se le asigna un alias:"
   ]
  },
  {
   "cell_type": "code",
   "execution_count": null,
   "metadata": {},
   "outputs": [],
   "source": [
    "from math import exp as exponencial\n",
    "\n",
    "help(exponencial)"
   ]
  },
  {
   "cell_type": "markdown",
   "metadata": {},
   "source": [
    "___\n",
    "## Alias más comúnes\n",
    "Aunque a un módulo se le puede asignar cualquier alias, existe un acuerdo común entre los programadores para utilizar el mismo alias en los programas, ello ayuda a que sea más sencillo entender el código ajeno.\n",
    "A cotinuación se presentan las formas más comunes de importar algunos módulos:"
   ]
  },
  {
   "cell_type": "code",
   "execution_count": null,
   "metadata": {},
   "outputs": [],
   "source": [
    "import os                                 # manejo de rutas de archivos y carpetas\n",
    "from datetime import datetime, timedelta  # modulo de manejo de tiempo e intervalos de tiempo\n",
    "import numpy as np                        # modulo de análisis numérico con arreglos matriciales (tipo matlab)\n",
    "import scipy as sp                        # modulo de funciones avanzadas (optimizacion, interpolacion etc)\n",
    "import matplotlib.pyplot as plt           # modulo más popular para generar gráficos en 2D\n",
    "import pandas as pd                       # modulo que permite trabajar con tablas\n",
    "import seaborn as sns                     # modulo de graficas estadisticas"
   ]
  }
 ],
 "metadata": {
  "kernelspec": {
   "display_name": "Python 3",
   "language": "python",
   "name": "python3"
  },
  "language_info": {
   "codemirror_mode": {
    "name": "ipython",
    "version": 3
   },
   "file_extension": ".py",
   "mimetype": "text/x-python",
   "name": "python",
   "nbconvert_exporter": "python",
   "pygments_lexer": "ipython3",
   "version": "3.7.7"
  }
 },
 "nbformat": 4,
 "nbformat_minor": 4
}
