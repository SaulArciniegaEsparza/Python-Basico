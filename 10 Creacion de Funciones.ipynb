{
 "cells": [
  {
   "cell_type": "markdown",
   "metadata": {},
   "source": [
    "# **Curso Básico de Python: Creción de Funciones**\n",
    "\n",
    "___\n",
    "\n",
    "**Saúl Arciniega Esparza** | Ph.D. Profesor Asociado C Tiempo Completo\n",
    "\n",
    "* [Twitter](https://twitter.com/zaul_arciniega) | [LinkedIn](https://www.linkedin.com/in/saularciniegaesparza/) | [ResearchGate](https://www.researchgate.net/profile/Saul-Arciniega-Esparza)\n",
    "* [Hydrogeology Group](https://www.ingenieria.unam.mx/hydrogeology/), [Facultad de Ingeniería de la UNAM](https://www.ingenieria.unam.mx/)\n",
    "___\n",
    "\n",
    "**Contenido**\n",
    "\n",
    "* [Creación de funciones](#Creación-de-funciones)\n",
    "* [Creación de funciones con **lambda**](#Creación-de-funciones-con-lambda)\n",
    "* [Creación de funciones con **def**](#Definición-de-funciones-con-def)\n",
    "* [Parámetros por defecto](#Parámetros-por-defecto)\n",
    "* [Múltiples parámetros por defecto](#Definiendo-varios-parámetros-por-defecto)\n",
    "* [Número de entradas indefinidas](#Número-de-entradas-indefinidas)\n",
    "* [Subfunciones](#Subfunciones)\n",
    "* [Múltiples salidas de las funciones](#Manejo-de-salidas-múltiples-de-las-funciones)\n",
    "* [Ejemplo de Newton-Rapson](#Ejemplo-de-función-para-obtener-la-solución-de-una-función-con-Newton-Rapson)"
   ]
  },
  {
   "cell_type": "markdown",
   "metadata": {},
   "source": [
    "___\n",
    "# Creación de funciones\n",
    "Una *función* es una secuencia de sentencias que ejecutan una operación deseada y que tiene un nombre asociado.\n",
    "En Python existen dos formas de crear una función, una más sencilla pero limitada que otra.\n",
    "\n",
    "___\n",
    "## Creación de funciones con lambda\n",
    "**lambda** es una función especial de Python que nos permite crear funciones en una línea. Esta representa la manera más sencilla de declarar una función, por ejemplo imaginemos a y = x^2:"
   ]
  },
  {
   "cell_type": "code",
   "execution_count": null,
   "metadata": {},
   "outputs": [],
   "source": [
    "fun = lambda x: x ** 2\n",
    "# como vemos la sintaxis es:\n",
    "# lambda var1, var2, varn : operacion"
   ]
  },
  {
   "cell_type": "markdown",
   "metadata": {},
   "source": [
    "Para evaluar una función simplemente la llamamos usando el nombre asignado. Al usar **lambda** el nombre de la función queda definido como el elemento a la izquierda del signo =, en el ejemplo la función se llama **fun**:"
   ]
  },
  {
   "cell_type": "code",
   "execution_count": null,
   "metadata": {},
   "outputs": [],
   "source": [
    "print(fun(1))  # evaluar la función con 1\n",
    "print(fun(2))  # evaluar la función con 2\n",
    "print(fun(3))  # evaluar la función con 3"
   ]
  },
  {
   "cell_type": "code",
   "execution_count": null,
   "metadata": {},
   "outputs": [],
   "source": [
    "y = fun(4)  # podemos guardar los resultados en oatra variable\n",
    "z = fun(4) - fun(3)  # incluso podemos hacer operaciones con la misma funcion\n",
    "\n",
    "print(y)\n",
    "print(z)"
   ]
  },
  {
   "cell_type": "markdown",
   "metadata": {},
   "source": [
    "Una particularidad de las funciones es que trabajan con variables locales, es decir que las variables que usemos dentro de la función no afectan a las variables que se encuentran fuera:"
   ]
  },
  {
   "cell_type": "code",
   "execution_count": null,
   "metadata": {},
   "outputs": [],
   "source": [
    "x = 10\n",
    "fun1 = lambda x: x + 3"
   ]
  },
  {
   "cell_type": "code",
   "execution_count": null,
   "metadata": {},
   "outputs": [],
   "source": [
    "print(fun1(8))\n",
    "print(x)  # x no se vio afectada por ejecutar la función"
   ]
  },
  {
   "cell_type": "markdown",
   "metadata": {},
   "source": [
    "Aunque si una literal no se declara como variable de la función, esta toma su valor fuera de la función, siempre y cuando haya sido previamente declarada, por ejemplo:"
   ]
  },
  {
   "cell_type": "code",
   "execution_count": null,
   "metadata": {
    "scrolled": true
   },
   "outputs": [],
   "source": [
    "w = 5\n",
    "fun2 = lambda x: w + x\n",
    "\n",
    "print(fun2(2))\n",
    "print(fun2(10))"
   ]
  },
  {
   "cell_type": "markdown",
   "metadata": {},
   "source": [
    "### Funciones de varias variables con lambda\n",
    "**lambda** nos permite definir una función de más de una variable, para ello sólo separamos por coma cada variable:"
   ]
  },
  {
   "cell_type": "code",
   "execution_count": null,
   "metadata": {},
   "outputs": [],
   "source": [
    "funxy = lambda x, y: x + y / 3.0"
   ]
  },
  {
   "cell_type": "code",
   "execution_count": null,
   "metadata": {},
   "outputs": [],
   "source": [
    "print(funxy(4, 5))\n",
    "print(funxy(15, 0))"
   ]
  },
  {
   "cell_type": "markdown",
   "metadata": {},
   "source": [
    "___\n",
    "## Definición de funciones con def\n",
    "Podemos definir una función mucho más compleja usando **def**, ya que este nos permite crear un bloque de código que se ejecuta cuando se llame la función, por ejemplo:"
   ]
  },
  {
   "cell_type": "code",
   "execution_count": null,
   "metadata": {},
   "outputs": [],
   "source": [
    "def my_fun(x, y):\n",
    "    print(x + y ** 2.0)\n"
   ]
  },
  {
   "cell_type": "code",
   "execution_count": null,
   "metadata": {},
   "outputs": [],
   "source": [
    "my_fun(15, 2)\n",
    "my_fun(1, 3)"
   ]
  },
  {
   "cell_type": "markdown",
   "metadata": {},
   "source": [
    "Las funciones incluso pueden no depender de parametros para ejecutarse:"
   ]
  },
  {
   "cell_type": "code",
   "execution_count": null,
   "metadata": {},
   "outputs": [],
   "source": [
    "def my_fun2():  # funcion sin parametros\n",
    "    print('Ejemplo de funcion')\n",
    "    print('Funcion definida con def')"
   ]
  },
  {
   "cell_type": "code",
   "execution_count": null,
   "metadata": {},
   "outputs": [],
   "source": [
    "my_fun2()  # llamar a la funcion\n",
    "my_fun2()  # llamar a la funcion"
   ]
  },
  {
   "cell_type": "markdown",
   "metadata": {},
   "source": [
    "### Uso de return\n",
    "Cuando definimos una función con **def** podemos indicarle a Python cuáles son las variables que la función arrojará como resultado usando el comando **return**:"
   ]
  },
  {
   "cell_type": "code",
   "execution_count": null,
   "metadata": {},
   "outputs": [],
   "source": [
    "def my_fun3(a, b):\n",
    "    suma = a + b\n",
    "    return(suma)  # aqui le indicamos a python que la funcion regresara como resultado a 'suma'"
   ]
  },
  {
   "cell_type": "code",
   "execution_count": null,
   "metadata": {},
   "outputs": [],
   "source": [
    "r1 = my_fun3(5, 8)     # evaluamos la funcion\n",
    "r2 = my_fun3(-4, 3)    # evaluamos la funcion\n",
    "r3 = my_fun3(0, 10.0)  # evaluamos la funcion\n",
    "\n",
    "print('r1=',r1)\n",
    "print('r2=',r2)\n",
    "print('r3=',r3)"
   ]
  },
  {
   "cell_type": "markdown",
   "metadata": {},
   "source": [
    "Cuando usamos **return** dentro de una función estamos terminando la función y todo lo que esté después de él ya no se ejecuta:"
   ]
  },
  {
   "cell_type": "code",
   "execution_count": null,
   "metadata": {},
   "outputs": [],
   "source": [
    "def my_fun4(a, b):\n",
    "    resta = a - b\n",
    "    print('Estamos ejecutando una resta entre a y b')\n",
    "    return(resta) \n"
   ]
  },
  {
   "cell_type": "code",
   "execution_count": null,
   "metadata": {},
   "outputs": [],
   "source": [
    "r4 = my_fun4(4, 6)  # lo que esta despues de return no fue ejecutado"
   ]
  },
  {
   "cell_type": "markdown",
   "metadata": {},
   "source": [
    "Del caso anterior podemos deducir que en nuestra función puede haber más de un **return**, en estos casos la función se interrumpe cuando se encuentra con el primero:"
   ]
  },
  {
   "cell_type": "code",
   "execution_count": null,
   "metadata": {},
   "outputs": [],
   "source": [
    "def my_fun5(a, b):\n",
    "    if(a > b):  # sumar\n",
    "        return(a + b)   # podemos realizar una operacion dentro de return\n",
    "    elif(a < b):  # resta\n",
    "        return(a - b)\n",
    "    else:         # multiplicar en caso de que a=b\n",
    "        return(a * b)"
   ]
  },
  {
   "cell_type": "code",
   "execution_count": null,
   "metadata": {},
   "outputs": [],
   "source": [
    "print(my_fun5(2, 1))  # ejecuta suma\n",
    "print(my_fun5(2, 5))  # ejecuta resta\n",
    "print(my_fun5(2, 2))  # ejecuta multiplicacion"
   ]
  },
  {
   "cell_type": "markdown",
   "metadata": {},
   "source": [
    "___\n",
    "## Parámetros por defecto\n",
    "Cuando definimos una función que requiere de varios parámetros es normal que para hacerle la vida más fácil al usuario se den valores por defecto a la mayoría de ellos. Python tiene una forma muy sencilla de definir valores por defecto a las variables de entrada de una función:"
   ]
  },
  {
   "cell_type": "code",
   "execution_count": null,
   "metadata": {},
   "outputs": [],
   "source": [
    "# Funcion para sumar, restar o multiplicar dos numeros\n",
    "#  a y b son los dos numeros OBLIGATORIOS\n",
    "#  operacion es un parametro OPCIONAL que define el tipo de operacion aritmetica \n",
    "#   a realizar y puede valer 'suma' (valor por DEFECTO), 'resta' o 'mult'\n",
    "def my_fun6(a, b=1, operacion='suma'):\n",
    "    \"\"\"\n",
    "    Funcion que hace operaciones\n",
    "    \n",
    "    funcion de ejemplo\n",
    "    \"\"\"\n",
    "    \n",
    "    operacion = operacion.lower()  # pasamos todos los caracteres a minusculas\n",
    "    \n",
    "    if operacion == 'suma':\n",
    "        res = a + b\n",
    "    elif operacion == 'resta':\n",
    "        res = a - b\n",
    "    elif operacion == 'mult':\n",
    "        res = a * b\n",
    "    else:  # mostrar error en caso de que no se eliga una operacion valida\n",
    "        raise NameError('No se eligio una operacion valida')\n",
    "    return res"
   ]
  },
  {
   "cell_type": "code",
   "execution_count": null,
   "metadata": {
    "scrolled": true
   },
   "outputs": [],
   "source": [
    "my_fun6(2, operacion=\"resta\")"
   ]
  },
  {
   "cell_type": "code",
   "execution_count": null,
   "metadata": {
    "scrolled": true
   },
   "outputs": [],
   "source": [
    "print(my_fun6(1, 5))  # se usa el parametro por defecto, es decir operacion='suma'\n",
    "print(my_fun6(1, 5, operacion='suma'))  # es lo mismo que la anterior \n",
    "print(my_fun6(1, 5, operacion='resta'))  # usar otra operacion\n",
    "print(my_fun6(1, 5, operacion='mult'))  # usar otra operacion\n",
    "print(my_fun6(1, 5, operacion='poten'))  # usar otra operacion"
   ]
  },
  {
   "cell_type": "code",
   "execution_count": null,
   "metadata": {},
   "outputs": [],
   "source": [
    "help(my_fun6)"
   ]
  },
  {
   "cell_type": "code",
   "execution_count": null,
   "metadata": {},
   "outputs": [],
   "source": [
    "# hemos indicado lo que sucede cuando no se ingresa un valor valido\n",
    "print(my_fun6(4, 10, operacion='multiplicacion'))"
   ]
  },
  {
   "cell_type": "markdown",
   "metadata": {},
   "source": [
    "Cuando conocemos la posición del parámetro por defecto no es necesario ingresar su palabra clave:"
   ]
  },
  {
   "cell_type": "code",
   "execution_count": null,
   "metadata": {},
   "outputs": [],
   "source": [
    "print(my_fun6(7, 5, 'resta'))"
   ]
  },
  {
   "cell_type": "markdown",
   "metadata": {},
   "source": [
    "___\n",
    "## Definiendo varios parámetros por defecto"
   ]
  },
  {
   "cell_type": "code",
   "execution_count": null,
   "metadata": {},
   "outputs": [],
   "source": [
    "# Lo mismo que my_fun6 pero ahora agregamos mas parametros\n",
    "#  imprimir va a permitir imprimir los valores de las variables a y b\n",
    "#  absoluto va a permitir regresar el valor absoluto del resultado\n",
    "def my_fun7(a, b, operacion='suma', imprimir=False, absoluto=False):\n",
    "    operacion = operacion.lower()\n",
    "    \n",
    "    # Imprimir entradas?\n",
    "    if imprimir :\n",
    "        print('a=', a)\n",
    "        print('b=', b)\n",
    "    \n",
    "    if operacion == 'suma':\n",
    "        res = a + b\n",
    "    elif operacion == 'resta':\n",
    "        res = a - b\n",
    "    elif operacion == 'mult':\n",
    "        res = a * b\n",
    "    else:  # mostrar error en caso de que no se eliga una operacion valida\n",
    "        raise NameError('No se eligio una operacion valida')\n",
    "        \n",
    "    # Obtener valor absoluto de la funcion\n",
    "    if absoluto:\n",
    "       res = abs(res)  # obtener valor absoluto\n",
    "    \n",
    "    return res"
   ]
  },
  {
   "cell_type": "markdown",
   "metadata": {},
   "source": [
    "Cuando tenemos más de un parámetro por defecto podemos trabajar de varias formas:\n",
    " - **Ingresando sólo valores obligatorios**:"
   ]
  },
  {
   "cell_type": "code",
   "execution_count": null,
   "metadata": {},
   "outputs": [],
   "source": [
    "print(my_fun7(5, 7))"
   ]
  },
  {
   "cell_type": "markdown",
   "metadata": {},
   "source": [
    " - **Usando todos los parámetros por defecto**. En este caso podemos o no usar sus palabras clave:"
   ]
  },
  {
   "cell_type": "code",
   "execution_count": null,
   "metadata": {},
   "outputs": [],
   "source": [
    "print(my_fun7(-15, 7, operacion='resta', imprimir=True, absoluto=True))  # usamos las palabras clave\n",
    "print(my_fun7(8, 10, 'mult', True, True))  # usamos las palabras clave, pero ingresamos todo en orden"
   ]
  },
  {
   "cell_type": "markdown",
   "metadata": {},
   "source": [
    "Cuando usamos palabras clave podemos usarlas en cualquier orden dentro de la funcion. Los parámetro obligatorios siempre van en el mismo orden."
   ]
  },
  {
   "cell_type": "code",
   "execution_count": null,
   "metadata": {},
   "outputs": [],
   "source": [
    "print(my_fun7(-15, 7, imprimir=True, absoluto=True, operacion='resta'))  # usamos las palabras clave en desorden"
   ]
  },
  {
   "cell_type": "markdown",
   "metadata": {},
   "source": [
    "NOTA: Cuando se comienzan a usar palabras clave en los parámetros opcionales se debe de hacer lo mismo para el resto, es decir, no podemos ingresar el primer parámetro opcional con su palabra clave y dejar los otros dos (para este ejemplo) sin sus palabras clave:"
   ]
  },
  {
   "cell_type": "code",
   "execution_count": null,
   "metadata": {},
   "outputs": [],
   "source": [
    "print(my_fun7(-15, 7, operacion='resta', True, True))  # nos marca error"
   ]
  },
  {
   "cell_type": "markdown",
   "metadata": {},
   "source": [
    "Pero si podemos hacer lo anterior si la parlabra clave está al final de las entradas:"
   ]
  },
  {
   "cell_type": "code",
   "execution_count": null,
   "metadata": {},
   "outputs": [],
   "source": [
    "print(my_fun7(-15, 7, 'resta', imprimir=True, absoluto=True))  # NO nos marca error"
   ]
  },
  {
   "cell_type": "markdown",
   "metadata": {},
   "source": [
    " - **Usando sólo algunos valores por defecto**. Para estos casos podemos modificar sólo los parametros por defecto que querramos:"
   ]
  },
  {
   "cell_type": "code",
   "execution_count": null,
   "metadata": {},
   "outputs": [],
   "source": [
    "print(my_fun7(-15, 7, operacion='mult'))  # cambiamos el tipo de operacion\n",
    "print(my_fun7(-15, 7, imprimir=True))  # activamos la impresion de a y b\n",
    "print(my_fun7(-15, 7, absoluto=True))  # activamos la estimacion del valor absoluto\n",
    "print(my_fun7(-15, 7, operacion='mult', absoluto=True))  # aplicamos multiplicacion y activamos valor absoluto\n",
    "print(my_fun7(-15, 7, imprimir=True, absoluto=True))  # activamos impresion y valor absoluto"
   ]
  },
  {
   "cell_type": "markdown",
   "metadata": {},
   "source": [
    "___\n",
    "## Número de entradas indefinidas\n",
    "Al igual que muchos otros lenguajes, Python permite que se ingrese un número desconocido de parámetros. Estos argumentos llegan a la función como forma de lista.\n",
    "Para definir argumentos arbitrarios se antecede al parámtro un asterísco:"
   ]
  },
  {
   "cell_type": "code",
   "execution_count": null,
   "metadata": {},
   "outputs": [],
   "source": [
    "def my_fun8(a, *args):  # en este caso args es un parametro indefinido, que permite introducir muchos elementos\n",
    "    print(a)\n",
    "    for val in args:  # iterar sobre elementos\n",
    "        print(val)"
   ]
  },
  {
   "cell_type": "code",
   "execution_count": null,
   "metadata": {},
   "outputs": [],
   "source": [
    "my_fun8(1)"
   ]
  },
  {
   "cell_type": "code",
   "execution_count": null,
   "metadata": {},
   "outputs": [],
   "source": [
    "my_fun8(1, 2, 3)"
   ]
  },
  {
   "cell_type": "code",
   "execution_count": null,
   "metadata": {},
   "outputs": [],
   "source": [
    "my_fun8(3, 5, 5, 10, 45, 75, 96, 22, 36)"
   ]
  },
  {
   "cell_type": "markdown",
   "metadata": {},
   "source": [
    "### Desempacando parámetros\n",
    "Puede ocurrir una situación contraria a la anterior, en la que tengamos una lista o tupla con muchos elementos, pero la función sólo acepte parámetros sepados por coma, en este caso se aplica lo siguiente:"
   ]
  },
  {
   "cell_type": "code",
   "execution_count": null,
   "metadata": {},
   "outputs": [],
   "source": [
    "def my_fun9(a, b, c):\n",
    "    suma = a + b + c\n",
    "    return(suma)"
   ]
  },
  {
   "cell_type": "code",
   "execution_count": null,
   "metadata": {},
   "outputs": [],
   "source": [
    "lista = [1, 15, 6]  # esta lista contiene nuestros argumentos para la funcion"
   ]
  },
  {
   "cell_type": "code",
   "execution_count": null,
   "metadata": {},
   "outputs": [],
   "source": [
    "# la forma tradicional de evaluar la funcion es\n",
    "x1, x2, x3 = lista\n",
    "\n",
    "print(my_fun9(x1, x2, x3))"
   ]
  },
  {
   "cell_type": "code",
   "execution_count": null,
   "metadata": {},
   "outputs": [],
   "source": [
    "# otra forma, que es lo mismo que lo anterior\n",
    "print(my_fun9(lista[0], lista[1], lista[2]))"
   ]
  },
  {
   "cell_type": "code",
   "execution_count": null,
   "metadata": {},
   "outputs": [],
   "source": [
    "# ahora provamos desempacando los parametros de la lista\n",
    "print(my_fun9(*lista))  # ahora usamos * en el argumento y no al definir la funcion como el el caso anterior"
   ]
  },
  {
   "cell_type": "markdown",
   "metadata": {},
   "source": [
    "___\n",
    "## Subfunciones\n",
    "Cuando el proceso que queremos realizar es bastante complejo, suele ser conveniente separar las etapas del proceso en varias funciones, que son llamadas por lo regular subfunciones.\n",
    "Existen dos formas de crear este tipo de funciones:\n",
    " - **Cada función por separado**. En este caso cada función se define por separado, y cada una puede ser llamada independientemente de la función que llama a todas:"
   ]
  },
  {
   "cell_type": "code",
   "execution_count": null,
   "metadata": {},
   "outputs": [],
   "source": [
    "# definimos la funcion de suma\n",
    "def subfun1(a, b):\n",
    "    return(a + b)\n",
    "# definimos la funcion de resta\n",
    "def subfun2(a, b):\n",
    "    return(a - b)\n",
    "# definimos la funcion principal que utiliza ambas\n",
    "def mainfun(a, b):\n",
    "    return subfun1(a, b) , subfun2(a, b)"
   ]
  },
  {
   "cell_type": "code",
   "execution_count": null,
   "metadata": {},
   "outputs": [],
   "source": [
    "# evaluamos a la funcion principal\n",
    "print(mainfun(10, 13))"
   ]
  },
  {
   "cell_type": "code",
   "execution_count": null,
   "metadata": {},
   "outputs": [],
   "source": [
    "# pero podemos ver que podemos evaluar las subfunciones por separado\n",
    "print(subfun1(10, 13))\n",
    "print(subfun2(10, 13))"
   ]
  },
  {
   "cell_type": "markdown",
   "metadata": {},
   "source": [
    " - **Definimos las subfunciones dentro de la funcion principal**. Este tipo de funciones nos sirven cuando no requerimos evaluar a las subfunciones en ninguna otra línea de nuestri programa:"
   ]
  },
  {
   "cell_type": "code",
   "execution_count": null,
   "metadata": {},
   "outputs": [],
   "source": [
    "def mainfun2(a, b):\n",
    "    # definimos la funcion de suma\n",
    "    def suma(a, b):\n",
    "        return(a + b)\n",
    "    # definimos la funcion de resta\n",
    "    # en este caso hacemos que carge los valores ingresados en la funcion principal\n",
    "    def resta(): \n",
    "        return(a - b)\n",
    "    \n",
    "    # Ahora finalizamos la funcion principal\n",
    "    return suma(a, b), resta()"
   ]
  },
  {
   "cell_type": "code",
   "execution_count": null,
   "metadata": {},
   "outputs": [],
   "source": [
    "# Evaluamos la funcion principal\n",
    "print(mainfun2(10, 13))"
   ]
  },
  {
   "cell_type": "code",
   "execution_count": null,
   "metadata": {},
   "outputs": [],
   "source": [
    "# Ahora vemos si podemos evaluar a las subfunciones\n",
    "suma(10, 13)"
   ]
  },
  {
   "cell_type": "markdown",
   "metadata": {},
   "source": [
    "___\n",
    "## Manejo de salidas múltiples de las funciones\n",
    "En muchos casos, las funciones nos regresarán más de un valor como resultado, puede ser que necesitemos todas las salidas de la función o sólo alguna en específico.\n",
    "Ahora vemos cómo lidiar con las salidas de las funciones."
   ]
  },
  {
   "cell_type": "code",
   "execution_count": null,
   "metadata": {},
   "outputs": [],
   "source": [
    "def my_fun10(a):\n",
    "    return(a + 1, a + 2, a + 3)  # funcion con 3 parametros de salida"
   ]
  },
  {
   "cell_type": "code",
   "execution_count": null,
   "metadata": {},
   "outputs": [],
   "source": [
    "print(my_fun10(5))  # vemos que la salida de todos los parámetros se guarda en una tupla"
   ]
  },
  {
   "cell_type": "code",
   "execution_count": null,
   "metadata": {},
   "outputs": [],
   "source": [
    "print(type(my_fun10(5)))"
   ]
  },
  {
   "cell_type": "markdown",
   "metadata": {},
   "source": [
    "Ya que la salida de la función es una tupla podemos utilizar algunas propiedades de ese tipo de objetos:"
   ]
  },
  {
   "cell_type": "code",
   "execution_count": null,
   "metadata": {},
   "outputs": [],
   "source": [
    "resultado = my_fun10(5)  # en este caso guardamos todo dentro de una variable\n",
    "\n",
    "r1, r2, r3 = resultado  # podemos separar cada resultado en diferentes variables\n",
    "\n",
    "print(resultado)\n",
    "print(r1)\n",
    "print(r2)\n",
    "print(r3)"
   ]
  },
  {
   "cell_type": "code",
   "execution_count": null,
   "metadata": {},
   "outputs": [],
   "source": [
    "# podemos llamar a cada elemento con su correspondiente indice dentro de la tupla\n",
    "print(resultado[0])\n",
    "print(resultado[1])\n",
    "print(resultado[2])"
   ]
  },
  {
   "cell_type": "code",
   "execution_count": null,
   "metadata": {},
   "outputs": [],
   "source": [
    "# o en su defecto, llamar la funcion y guardar todas las salidas en diferentes variables\n",
    "x1, x2, x3 = my_fun10(5)\n",
    "print(x1)\n",
    "print(x2)\n",
    "print(x3)"
   ]
  },
  {
   "cell_type": "code",
   "execution_count": null,
   "metadata": {},
   "outputs": [],
   "source": [
    "# tambien podemos guardar solo los resultados que nos interesen, por ejemplo\n",
    "s2 = my_fun10(5)[1]\n",
    "# recordar que al llamar a my_fun10(5) nos arroja tres resultados\n",
    "# lo que hacemos aqui es decirle a Python que de la tupla resultante nos guarde solo el elemento 1\n",
    "\n",
    "print(s2)"
   ]
  },
  {
   "cell_type": "markdown",
   "metadata": {},
   "source": [
    "___\n",
    "## Ejemplo de función para obtener la solución de una función con Newton-Rapson\n",
    "En este ejemplo conjuntamos la mayoría de los conceptos mostrados hasta ahora en el curso:"
   ]
  },
  {
   "cell_type": "code",
   "execution_count": null,
   "metadata": {},
   "outputs": [],
   "source": [
    "# Encontrar la solucion de una funcion con el metodo de Newton-Rapson\n",
    "# Entradas\n",
    "#  fun      [function] funcion de entrada a resolver, por ejemplo y=x**2-4\n",
    "#  x0       [float] [opcional] valor inicial para evaluar la funcion\n",
    "#  error    [float] [opcional] valor del error hasta el cual se detienen las iteraciones\n",
    "def newton_rapson(fun, x0=0, error=0.03):\n",
    "    # Primero revisamos que se hayan ingresado los tipos de variables correctos\n",
    "    try:  # tratar de evaluar la funcion\n",
    "        fun(1.0);\n",
    "    except:\n",
    "        raise TypeError('Argumento fun debe ser una funcion de un parametro!')\n",
    "        \n",
    "    # Definir derivada numerica dfun= (fun(x+dx) - fun(x)) / dx\n",
    "    dfun = lambda x: (fun(x + 1e-6) - fun(x)) / 1e-6  # dx=1e-6\n",
    "    \n",
    "    # Comenzar metodo\n",
    "    x1 = x0\n",
    "    cnt = 0  # contador de iteraciones\n",
    "    while True:\n",
    "        cnt += 1  # aumentar numero de iteraciones \n",
    "        # evaluar nuevo valor de x\n",
    "        x2 = x1 - fun(x1) / dfun(x1)  \n",
    "        # error relativo\n",
    "        error_eval = abs(x2-x1) / abs(x2)\n",
    "        # verificar error\n",
    "        if(error_eval <= error):\n",
    "            break  # si error calculado es menor que error, terminar ciclo\n",
    "        # en caso de que no se cumpla con el error\n",
    "        x1 = x2  # usar el nuevo valor como valor anterior\n",
    "    \n",
    "    # Ahora guardamos las salidas de la funcion\n",
    "    # en este caso usamos una sola salida, pero\n",
    "    # almacenamos todo en un diccionario\n",
    "    salida = {'X': x2, 'Fval' : fun(x2), 'Error' : error_eval, 'Iter' : cnt}\n",
    "    return(salida)"
   ]
  },
  {
   "cell_type": "code",
   "execution_count": null,
   "metadata": {},
   "outputs": [],
   "source": [
    "# ahora probamos nuestra funcion\n",
    "fun_ejem = lambda x: x ** 3.0 - 2.0 * x ** 2 + x -3\n",
    "x0 = 0\n",
    "error = 1e-5\n",
    "res = newton_rapson(fun_ejem, x0, error)\n",
    "\n",
    "print(res)\n",
    "print(res['X'])"
   ]
  }
 ],
 "metadata": {
  "kernelspec": {
   "display_name": "Python 3",
   "language": "python",
   "name": "python3"
  },
  "language_info": {
   "codemirror_mode": {
    "name": "ipython",
    "version": 3
   },
   "file_extension": ".py",
   "mimetype": "text/x-python",
   "name": "python",
   "nbconvert_exporter": "python",
   "pygments_lexer": "ipython3",
   "version": "3.7.7"
  }
 },
 "nbformat": 4,
 "nbformat_minor": 4
}
