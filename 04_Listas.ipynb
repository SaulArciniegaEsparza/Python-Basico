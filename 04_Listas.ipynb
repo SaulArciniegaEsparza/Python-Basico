{
 "cells": [
  {
   "cell_type": "markdown",
   "metadata": {},
   "source": [
    "# **Curso Básico de Python: Listas**\n",
    "\n",
    "___\n",
    "\n",
    "**Saúl Arciniega Esparza** | Ph.D. Profesor Asociado C Tiempo Completo\n",
    "\n",
    "* [Twitter](https://twitter.com/zaul_arciniega) | [LinkedIn](https://www.linkedin.com/in/saularciniegaesparza/) | [ResearchGate](https://www.researchgate.net/profile/Saul-Arciniega-Esparza)\n",
    "* [Hydrogeology Group](https://www.ingenieria.unam.mx/hydrogeology/), [Facultad de Ingeniería de la UNAM](https://www.ingenieria.unam.mx/)\n",
    "___\n",
    "\n",
    "## **Contenido**\n",
    "\n",
    "* [Listas y tuplas](#Listas-y-tuplas)\n",
    "* [Uso de índices](#Índices-de-listas-y-tuplas)\n",
    "* [Elminar elementos](#Eliminar-elementos-en-listas)\n",
    "* [Copia superficial y copia profunda](#Copia-superficial-y-copia-profunda)\n",
    "* [Métodos de listas](#Métodos-de-las-listas)\n",
    "* [Métodos a elementos de listas](#Métodos-aplicados-a-elementos-de-listas)"
   ]
  },
  {
   "cell_type": "markdown",
   "metadata": {},
   "source": [
    "___\n",
    "# Listas y tuplas\n",
    "\n",
    "[Ir a Inicio](#Contenido)"
   ]
  },
  {
   "cell_type": "markdown",
   "metadata": {},
   "source": [
    "En este capítulo se revisará cómo manipular listas y tuplas dentro de Python, así como algunos de los métodos necesarios para el curso."
   ]
  },
  {
   "cell_type": "markdown",
   "metadata": {},
   "source": [
    "## Definir una Lista\n",
    "\n",
    "[Ir a Inicio](#Contenido)\n",
    "\n",
    "Las Listas se definen al agrupar elementos dentro de **[]**. Las listas permiten agrupas cualquier clase de objeto dentro de un objeto:"
   ]
  },
  {
   "cell_type": "code",
   "execution_count": null,
   "metadata": {},
   "outputs": [],
   "source": [
    "[0, 3, 4]  # lista de numeros enteros"
   ]
  },
  {
   "cell_type": "code",
   "execution_count": null,
   "metadata": {},
   "outputs": [],
   "source": [
    "print([0., 3., 4.])      # lista de numeros flotantes\n",
    "print(['a', 'b'])        # lista de texto\n",
    "print([0, 'a', 5.4])     # lista de varios tipos de elementos\n",
    "print([[0, 3], [5, 2]])  # lista de listas"
   ]
  },
  {
   "cell_type": "markdown",
   "metadata": {},
   "source": [
    "Para verificar si una variable contiene una Lista podemos usar el comando **type()**:"
   ]
  },
  {
   "cell_type": "code",
   "execution_count": null,
   "metadata": {},
   "outputs": [],
   "source": [
    "a = [4, 5, 6]           # definir una lista"
   ]
  },
  {
   "cell_type": "code",
   "execution_count": null,
   "metadata": {},
   "outputs": [],
   "source": [
    "type(a)                 # imprimir tipo de objeto"
   ]
  },
  {
   "cell_type": "code",
   "execution_count": null,
   "metadata": {},
   "outputs": [],
   "source": [
    "type(a) == list         # verificar si la variable es un objeto list"
   ]
  },
  {
   "cell_type": "markdown",
   "metadata": {},
   "source": [
    "## Definir una Tupla\n",
    "\n",
    "[Ir a Inicio](#Contenido)\n",
    "\n",
    "Las Tuplas son similares a las Listas, son objetos que nos permiten almacenar objetos y se definen con **()**. La diferencia principal entre las Listas y las Tuplas es que estas últimas no se pueden editar, es decir que sólo nos sirven para almacenar información pero no para manipularla, por lo que nos enfocaremos principalmente con el uso de las Listas."
   ]
  },
  {
   "cell_type": "code",
   "execution_count": null,
   "metadata": {},
   "outputs": [],
   "source": [
    "(0, 3, 4)                # tupla de numeros enteros"
   ]
  },
  {
   "cell_type": "code",
   "execution_count": null,
   "metadata": {},
   "outputs": [],
   "source": [
    "print((0., 3., 4.))      # tupla de numeros flotantes\n",
    "print(('a', 'b'))        # tupla de texto\n",
    "print((0, 'a', 5.4))     # tupla de varios tipos de elementos\n",
    "print(([0, 3], (5, 2)))  # tupla con listas y tuplas"
   ]
  },
  {
   "cell_type": "markdown",
   "metadata": {},
   "source": [
    "Para verificar si una variable contiene una Tupla se utiliza el comando **type()**"
   ]
  },
  {
   "cell_type": "code",
   "execution_count": null,
   "metadata": {},
   "outputs": [],
   "source": [
    "a = (4, 5, 6)            # definir una tupla"
   ]
  },
  {
   "cell_type": "code",
   "execution_count": null,
   "metadata": {},
   "outputs": [],
   "source": [
    "type(a)                  # imprimir tipo de objeto"
   ]
  },
  {
   "cell_type": "code",
   "execution_count": null,
   "metadata": {},
   "outputs": [],
   "source": [
    "type(a) == tuple         # verificar si la variable es un objeto tuple"
   ]
  },
  {
   "cell_type": "markdown",
   "metadata": {},
   "source": [
    "___\n",
    "## Índices de listas y tuplas\n",
    "\n",
    "[Ir a Inicio](#Contenido)\n",
    "\n",
    "Al igual que las cadenas de caracteres y cualquier otro tipo de *secuence* integrados (iterables), las listas y tuplas puede ser indexadas para obtener elementos específicos de ellas.\n",
    "Para ejemplificar definamos una lista y una tupla:"
   ]
  },
  {
   "cell_type": "code",
   "execution_count": null,
   "metadata": {},
   "outputs": [],
   "source": [
    "lista = [1, 2, 3, 4]\n",
    "tupla = (1, 2, 3, 4)"
   ]
  },
  {
   "cell_type": "markdown",
   "metadata": {},
   "source": [
    "En las definiciones anteriores, cada elemento contenido tiene un índice específico que sigue la misma secuencia que en las cadenas de caracteres:\n",
    "\n",
    "| Valor | 1 | 2 | 3 | 4 |\n",
    "|:-:|:-:|:-:|:-:|:-:|\n",
    "| Indice | 0 | 1 | 2 | 3 |\n",
    "| Indice | -4 | -3 | -2 | -1 |"
   ]
  },
  {
   "cell_type": "code",
   "execution_count": null,
   "metadata": {
    "scrolled": true
   },
   "outputs": [],
   "source": [
    "print('ejemplo 1')\n",
    "print(lista[0])      # llama al primer elemento de la lista\n",
    "print(tupla[0])      # obtiene el primer elemento de la tupla\n",
    "print('ejemplo 2')\n",
    "print(lista[1])      # llama al segundo elemento de la lista\n",
    "print(tupla[1])      # obtiene el segundo elemento de la tupla\n",
    "print('ejemplo 3')\n",
    "print(lista[3])      # llama al ultimo elemento de la lista\n",
    "print(tupla[-1])     # obtiene el ultimo elemento de la tupla\n",
    "print('ejemplo 4')\n",
    "print(lista[1:3])    # llama del segundo al tercer elemento de la lista\n",
    "print(tupla[-3:-1])  # obtiene del segundo al tercer elemento de la tupla\n",
    "print('ejemplo 5')\n",
    "print(lista[1:])     # llama del segundo al ultimo elemento de la lista\n",
    "print(tupla[-3:])    # obtiene del segundo al ultimo elemento de la tupla\n",
    "print('ejemplo 6')\n",
    "print(lista[:2])     # llama del primer al segundo elemento de la lista\n",
    "print(tupla[:-2])    # obtiene del primer al segundo elemento de la tupla"
   ]
  },
  {
   "cell_type": "markdown",
   "metadata": {},
   "source": [
    "___\n",
    "## Eliminar elementos en listas\n",
    "\n",
    "[Ir a Inicio](#Contenido)\n",
    "\n",
    "Para eliminar un elemento dentro de una lista basta con usar el comando **del()** en el cual se especifica el nombre de la variable y el índice del elemento que queremos eliminar.\n",
    "Como se mencionó al inicio de este capítulo, las tuplas no pueden ser modificadas, es decir que al tratar de borrar un elemento nos marca un error:"
   ]
  },
  {
   "cell_type": "code",
   "execution_count": null,
   "metadata": {},
   "outputs": [],
   "source": [
    "lista = [1,2,3,4]\n",
    "lista"
   ]
  },
  {
   "cell_type": "code",
   "execution_count": null,
   "metadata": {},
   "outputs": [],
   "source": [
    "tupla = (1,2,3,4)\n",
    "tupla"
   ]
  },
  {
   "cell_type": "code",
   "execution_count": null,
   "metadata": {},
   "outputs": [],
   "source": [
    "del(lista[2])  # eliminar el tercer elemento de la lista\n",
    "lista"
   ]
  },
  {
   "cell_type": "code",
   "execution_count": null,
   "metadata": {},
   "outputs": [],
   "source": [
    "del(tupla[2])  # segun lo que se explico, esto no es posible"
   ]
  },
  {
   "cell_type": "markdown",
   "metadata": {},
   "source": [
    "___\n",
    "## Copia superficial y copia profunda\n",
    "\n",
    "[Ir a Inicio](#Contenido)\n",
    "\n",
    "En Python se debe de tener cuidado cuando se asigna el valor de una variable a otra ya que existen dos formas de copiar datos:\n",
    " - Copia superficial: realiza una copia de la variable original, manteniendo un vínculo con ella, de tal manera que si se comidifica un valor de la nueva variable, la variable original también se verá afectada. Para ejemplificar veamos el ejemplo siguiente:"
   ]
  },
  {
   "cell_type": "code",
   "execution_count": null,
   "metadata": {},
   "outputs": [],
   "source": [
    "lista1 = [1, 2, 3, 4, [10, 0]]  # lista original\n",
    "lista2 = lista1                 # copia superficial\n",
    "\n",
    "print(lista1)\n",
    "print(lista2)"
   ]
  },
  {
   "cell_type": "code",
   "execution_count": null,
   "metadata": {},
   "outputs": [],
   "source": [
    "lista2[2] = 6  # modificar el tercer elemento de la lista 2\n",
    "lista1         # ahora vemos que la lista 1 tambien ha sido afectada por esta operacion"
   ]
  },
  {
   "cell_type": "markdown",
   "metadata": {},
   "source": [
    "El copiado superficial también puede afectar a un elemento dentro de una variable, es decir:"
   ]
  },
  {
   "cell_type": "code",
   "execution_count": null,
   "metadata": {},
   "outputs": [],
   "source": [
    "lista3 = lista1[-1]  # estamos haciendo una copia superficial del ultimo elemento de la lista1, el cual es otra lista\n",
    "lista3"
   ]
  },
  {
   "cell_type": "code",
   "execution_count": null,
   "metadata": {},
   "outputs": [],
   "source": [
    "lista3[0] = 5 # modificamos el primer elemento de la lista3\n",
    "print(lista1) # vemos que la lista1 tambien ha sido afectada\n",
    "print(lista2)"
   ]
  },
  {
   "cell_type": "markdown",
   "metadata": {},
   "source": [
    " - Copia profunda: realiza una copia de todos los elementos, por lo que se evita el vínculo entre variables:"
   ]
  },
  {
   "cell_type": "code",
   "execution_count": null,
   "metadata": {},
   "outputs": [],
   "source": [
    "lista1 = [1, 2, 3, 4, [10, 0]]  # lista original\n",
    "lista2 = lista1[:]              # copia profunda, se llaman a todos los elementos de la lista\n",
    "\n",
    "print(lista1)\n",
    "print(lista2)"
   ]
  },
  {
   "cell_type": "code",
   "execution_count": null,
   "metadata": {},
   "outputs": [],
   "source": [
    "lista2[2] = 6  # modificar el tercer elemento de la lista 2\n",
    "lista1         # en este caso, la lista 1 nno ha sido afectada"
   ]
  },
  {
   "cell_type": "code",
   "execution_count": null,
   "metadata": {},
   "outputs": [],
   "source": [
    "lista2         # vemos los datos de la lista2"
   ]
  },
  {
   "cell_type": "markdown",
   "metadata": {},
   "source": [
    "Otra forma de hacer una copia profunda es con el módulo **deepcopy()**:"
   ]
  },
  {
   "cell_type": "code",
   "execution_count": null,
   "metadata": {},
   "outputs": [],
   "source": [
    "from copy import deepcopy  # importamos el modulo deepcopy"
   ]
  },
  {
   "cell_type": "code",
   "execution_count": null,
   "metadata": {},
   "outputs": [],
   "source": [
    "lista1 = [1, 2, 3, 4, [10, 0]]  # lista original\n",
    "lista2 = deepcopy(lista1)       # copia profunda\n",
    "\n",
    "print(lista1)\n",
    "print(lista2)"
   ]
  },
  {
   "cell_type": "code",
   "execution_count": null,
   "metadata": {},
   "outputs": [],
   "source": [
    "lista2[2] = 6  # modificar el tercer elemento de la lista 2\n",
    "print(lista2)  # vemos los datos de la lista2\n",
    "print(lista1)  # en este caso, la lista 1 nno ha sido afectada"
   ]
  },
  {
   "cell_type": "markdown",
   "metadata": {},
   "source": [
    "___\n",
    "## Métodos de las listas\n",
    "\n",
    "[Ir a Inicio](#Contenido)\n",
    "\n",
    "En esta sección se enlistan y muestrn los métodos de las listas que más utilizaremos en el curso. Para la descripción supongase que se ha definido una lista en la variable **l**:\n",
    "\n",
    "| Método | Descripción |\n",
    "|:-:|:-|\n",
    "| l * n | Repite n veces la lista |\n",
    "| l + L | Suponiendo que **L** también es una lista **+** concatena ambas listas en una sola |\n",
    "| l.append(a) | Agrega la variable **a** en la lista |\n",
    "| l.count(2) | Cuenta las veces que se repite 2 dentro de la lista |\n",
    "| l.extend(L) | Suponiendo que **L** es otra lista, extend() agrega los elementos de **L** en la lista **l** |\n",
    "| l.index(2) | Si 2 existe en **l**, devuelve el índice del primer 2 en la lista, de lo contrario marca un error |\n",
    "| l.pop(2) | Extrae el valor 2 permanentemente de la lista para almacenarlo en una nueva variable |\n",
    "| l.remove(2) | Elmina el primer 2 que se encuentra en la lista |\n",
    "| l.sort(reverse=False) | Ordena los valores de la lista de forma ascendente, si el parámetro reverse es True, entonces ordena los valores de forma descendente |\n",
    "| len(l) | Obtiene el numero de elementos en **l** (no incluye a los elementos dentro de otras listas, tuplas o diccionarios) |\n",
    "| max(l) | Valor máximo en la lista |\n",
    "| min(l) | Valor mínimo en la lista |\n",
    "| sum(l) | Suma los valores de la lista |"
   ]
  },
  {
   "cell_type": "code",
   "execution_count": null,
   "metadata": {},
   "outputs": [],
   "source": [
    "l = [2, 5, 7, 5.2, ['a', 4], (3, (6, 5))]  # definir una lista con varios elementos para el ejemplo\n",
    "l"
   ]
  },
  {
   "cell_type": "code",
   "execution_count": null,
   "metadata": {},
   "outputs": [],
   "source": [
    "print(l * 2)  # repite la lista 1 vez\n",
    "print(l + ['nuevo', 'valor', 5])  # concatena ambas listas"
   ]
  },
  {
   "cell_type": "code",
   "execution_count": null,
   "metadata": {},
   "outputs": [],
   "source": [
    "l1 = []  # definir una lista vacia\n",
    "print('Primer paso')\n",
    "print(l1)\n",
    "\n",
    "l1.append(1)  # agrega un nuevo elemento a la lista\n",
    "print('Segundo paso')\n",
    "print(l1)\n",
    "\n",
    "l1.append(200)  # agrega un nuevo elemento a la lista\n",
    "print('Tercer paso')\n",
    "print(l1)\n",
    "\n",
    "l1.append([4, '10'])  # agrega un nuevo elemento a la lista, en este caso otra lista\n",
    "print('Cuarto paso')\n",
    "print(l1)"
   ]
  },
  {
   "cell_type": "code",
   "execution_count": null,
   "metadata": {},
   "outputs": [],
   "source": [
    "# Diferencia entre append y extend\n",
    "l2 = [1, 2]\n",
    "l2.append([3, 4])  # agregamos una lista\n",
    "print('append', l2)\n",
    "l2.extend([5, 6, 7])  # extendemos la lista\n",
    "print('extend', l2)"
   ]
  },
  {
   "cell_type": "code",
   "execution_count": null,
   "metadata": {},
   "outputs": [],
   "source": [
    "# Veamos otro ejemplo con extend\n",
    "l1 = [1, 2]\n",
    "l2 = [[3, 4], 7]\n",
    "\n",
    "l1.extend(l2)\n",
    "print(l1)  # vemos que cada elemento en l2 se ha almacenado en l1, pero cada elemento ocupa un nuevo indice"
   ]
  },
  {
   "cell_type": "code",
   "execution_count": null,
   "metadata": {},
   "outputs": [],
   "source": [
    "l = [2, 5, 7, 5.2, ['a', 4], 2]  # definir una lista con varios elementos para el ejemplo"
   ]
  },
  {
   "cell_type": "code",
   "execution_count": null,
   "metadata": {},
   "outputs": [],
   "source": [
    "l.index(2)           # devuelve el indice del primer 2 dentro de la lista"
   ]
  },
  {
   "cell_type": "code",
   "execution_count": null,
   "metadata": {},
   "outputs": [],
   "source": [
    "print(l.count(2.0))  # cuenta el numero de veces que se repite 2 en la lista\n",
    "print(l.count(-10))  # si el valor no existe, regresa un 0"
   ]
  },
  {
   "cell_type": "code",
   "execution_count": null,
   "metadata": {},
   "outputs": [],
   "source": [
    "a = l.pop(4)  # remueve el elemento con indice 4 de la lista l y lo almacena en la variable a\n",
    "\n",
    "print(l)\n",
    "print(a)"
   ]
  },
  {
   "cell_type": "code",
   "execution_count": null,
   "metadata": {},
   "outputs": [],
   "source": [
    "l.remove(2)  # remueve el primer 2 de la lista\n",
    "l"
   ]
  },
  {
   "cell_type": "code",
   "execution_count": null,
   "metadata": {},
   "outputs": [],
   "source": [
    "l.sort()     # ordena los valores en orden ascendente, es lo mismo que l.sort(reverse=False)\n",
    "l"
   ]
  },
  {
   "cell_type": "code",
   "execution_count": null,
   "metadata": {},
   "outputs": [],
   "source": [
    "len(l)       # numero de elementos en la lista"
   ]
  },
  {
   "cell_type": "code",
   "execution_count": null,
   "metadata": {},
   "outputs": [],
   "source": [
    "print(max(l))  # maximo\n",
    "print(min(l))  # minimo\n",
    "print(sum(l))  # suma"
   ]
  },
  {
   "cell_type": "markdown",
   "metadata": {},
   "source": [
    "___\n",
    "## Métodos aplicados a elementos de listas\n",
    "\n",
    "[Ir a Inicio](#Contenido)\n",
    "\n",
    "Recordemos que una vez que se llama a un elemento dentro de una lista podemos usar sus atributos o métodos:"
   ]
  },
  {
   "cell_type": "code",
   "execution_count": null,
   "metadata": {},
   "outputs": [],
   "source": [
    "l = [4, 'hola mundo', [3, 6]]  # definir lista de ejemplo"
   ]
  },
  {
   "cell_type": "code",
   "execution_count": null,
   "metadata": {},
   "outputs": [],
   "source": [
    "l[0] + 10            # accedemos al primer elemento, el cual es un numero, por lo que podemos apicar operaciones aritmeticas"
   ]
  },
  {
   "cell_type": "code",
   "execution_count": null,
   "metadata": {},
   "outputs": [],
   "source": [
    "l[1].upper()         # el segundo elemento es una cadena de caracteres, asi que podemos usar sus metodos"
   ]
  },
  {
   "cell_type": "code",
   "execution_count": null,
   "metadata": {},
   "outputs": [],
   "source": [
    "l[2].append(100)     # el tercer elemento es una lista, a la cual le agregamos un nuevo elemento\n",
    "l"
   ]
  }
 ],
 "metadata": {
  "kernelspec": {
   "display_name": "Python 3",
   "language": "python",
   "name": "python3"
  },
  "language_info": {
   "codemirror_mode": {
    "name": "ipython",
    "version": 3
   },
   "file_extension": ".py",
   "mimetype": "text/x-python",
   "name": "python",
   "nbconvert_exporter": "python",
   "pygments_lexer": "ipython3",
   "version": "3.7.7"
  }
 },
 "nbformat": 4,
 "nbformat_minor": 4
}
