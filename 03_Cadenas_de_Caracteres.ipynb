{
 "cells": [
  {
   "cell_type": "markdown",
   "metadata": {},
   "source": [
    "# **Curso Básico de Python: Cadenas de caracteres**\n",
    "\n",
    "___\n",
    "\n",
    "**Saúl Arciniega Esparza** | Ph.D. Profesor Asociado C Tiempo Completo\n",
    "\n",
    "* [Twitter](https://twitter.com/zaul_arciniega) | [LinkedIn](https://www.linkedin.com/in/saularciniegaesparza/) | [ResearchGate](https://www.researchgate.net/profile/Saul-Arciniega-Esparza)\n",
    "* [Hydrogeology Group](https://www.ingenieria.unam.mx/hydrogeology/), [Facultad de Ingeniería de la UNAM](https://www.ingenieria.unam.mx/)\n",
    "___\n",
    "\n",
    "## **Contenido**\n",
    "\n",
    "* [Cadenas de Caracteres](#Cadenas-de-Caracteres)\n",
    "* [Caracteres especiales](#Caracteres-especiales)\n",
    "* [Concatenar texto](#Concatenar-texto)\n",
    "* [Índices en cadenas](#Índices-de-cadenas-de-texto)\n",
    "* [Eliminar caracteres](#Eliminar-elementos-dentro-de-una-cadena-de-caracteres)\n",
    "* [Métodos de cadenas de caracteres](#Métodos-de-cadenas-de-caracteres)"
   ]
  },
  {
   "cell_type": "markdown",
   "metadata": {},
   "source": [
    "___\n",
    "# Cadenas de Caracteres\n",
    "\n",
    "[Ir a Inicio](#Contenido)"
   ]
  },
  {
   "cell_type": "markdown",
   "metadata": {},
   "source": [
    "Las cadenas de texto en Python son **objetos** los cuales tienen _atributos_ y _métodos_ específicos. En este capítulo veremos algunos de los _métodos_ más utilizados en el manejo de las cadenas de caracteres."
   ]
  },
  {
   "cell_type": "markdown",
   "metadata": {},
   "source": [
    "### Definir una cadena de caracteres\n",
    "\n",
    "[Ir a Inicio](#Contenido)"
   ]
  },
  {
   "cell_type": "markdown",
   "metadata": {},
   "source": [
    "Las cadenas de caracteres pueden ser expresadas usando comillas simples '...' o dobles \"...\", dando el mismo resultado."
   ]
  },
  {
   "cell_type": "code",
   "execution_count": null,
   "metadata": {},
   "outputs": [],
   "source": [
    "'Bienvenidos a la clase de Percepcion Remota'"
   ]
  },
  {
   "cell_type": "code",
   "execution_count": null,
   "metadata": {},
   "outputs": [],
   "source": [
    "\"Bienvenidos a la clase de Percepcion Remota\""
   ]
  },
  {
   "cell_type": "markdown",
   "metadata": {},
   "source": [
    "En ocaciones es necesario meter una comilla o comillas dobles dentro de una cadena de caracteres, para ello se puede hacer de la siguiente forma:"
   ]
  },
  {
   "cell_type": "code",
   "execution_count": null,
   "metadata": {},
   "outputs": [],
   "source": [
    "'doesn\\'t'  # se usa \\' para insertar una comilla sin terminar la cadena de caracteres  "
   ]
  },
  {
   "cell_type": "code",
   "execution_count": null,
   "metadata": {},
   "outputs": [],
   "source": [
    "\"doesn't\"  # tambien se pueden usar comillas dobles para definir el texto que incluye comillas simples"
   ]
  },
  {
   "cell_type": "code",
   "execution_count": null,
   "metadata": {},
   "outputs": [],
   "source": [
    "'Hola \"mundo'  # lo mismo aplica para las comillas simples"
   ]
  },
  {
   "cell_type": "markdown",
   "metadata": {},
   "source": [
    "En conclusión, para definir una cadena de caracteres debemos abrir y cerrar con el mismo tipo de comilla."
   ]
  },
  {
   "cell_type": "markdown",
   "metadata": {},
   "source": [
    "___\n",
    "## Caracteres especiales\n",
    "\n",
    "[Ir a Inicio](#Contenido)"
   ]
  },
  {
   "cell_type": "markdown",
   "metadata": {},
   "source": [
    "En ocaciones nos encontraremos texto con algún caracter especial, por ejemplo que nos indique salto de línea o insertar un tabulador. Estos caracteres especiales se definen al utilizar **\\\\** antes del caracter.\n",
    "Los carceteres especiales más utilizados son:"
   ]
  },
  {
   "cell_type": "markdown",
   "metadata": {},
   "source": [
    "|Caracter|Descripción|\n",
    "|:-:|:-|\n",
    "|\\n| Salto de línea|\n",
    "|\\t| Tabulación|\n",
    "|\\\\| Inserta una diagonal invertida|\n",
    "|\\'| Inser una comilla simple|\n",
    "|\\\"| Inserta una comilla doble|\n",
    "|r'...'| r antes de una cadena de caracteres deja un texto plano, es decir, evita que se activen los caracteres especiales|\n",
    "|u'...'| u antes de una cadena de caracteres define un texto unicode|"
   ]
  },
  {
   "cell_type": "code",
   "execution_count": null,
   "metadata": {},
   "outputs": [],
   "source": [
    "print('1 Hola mundo')     # texto sin caracteres especiales\n",
    "print('2 Hola\\nmundo')    # insertar salto de linea\n",
    "print('3 Hola\\tmundo')    # insertar un tabulador\n",
    "print('4 Hola \\n mundo')  # insertar espacios y un salto de linea\n",
    "print('5 Hola \\t mundo')    # insertar espacios y un tabulador"
   ]
  },
  {
   "cell_type": "markdown",
   "metadata": {},
   "source": [
    "Se pueden insertar los caracteres especiales que sean necesarios:"
   ]
  },
  {
   "cell_type": "code",
   "execution_count": null,
   "metadata": {},
   "outputs": [],
   "source": [
    "'Curso:\\t Percepcion Remota \\n en la Ingenieria Hidrologia'"
   ]
  },
  {
   "cell_type": "markdown",
   "metadata": {},
   "source": [
    "El texto plano que se define al usar una r antes del texto será de mucha utilidad, especialmente en Windows, donde la ruta de los archivos se define con \\:"
   ]
  },
  {
   "cell_type": "code",
   "execution_count": null,
   "metadata": {},
   "outputs": [],
   "source": [
    "r'C:\\usuario\\normal'  # forma correcta de insertar una ruta o el nombre de un archivo en Windows"
   ]
  },
  {
   "cell_type": "markdown",
   "metadata": {},
   "source": [
    "Aunque si se quiere definie una \\ en una cadena de caracteres se puede utilizar \\\\:"
   ]
  },
  {
   "cell_type": "code",
   "execution_count": null,
   "metadata": {},
   "outputs": [],
   "source": [
    "'C:/usuario/normal'"
   ]
  },
  {
   "cell_type": "markdown",
   "metadata": {},
   "source": [
    "### Escribir texto en varios renglones\n",
    "\n",
    "[Ir a Inicio](#Contenido)"
   ]
  },
  {
   "cell_type": "markdown",
   "metadata": {},
   "source": [
    "Como se dijo en el capítulo de introducción, es conveniente no hacer líneas de código muy extensas para que sea legible, por lo que en ocaciones será necesario imprimir código en varias líneas.\n",
    "Esto se puede hacer de varias maneras:\n",
    " - Usando paréntesis **()** para unir el texto de varios renglones:"
   ]
  },
  {
   "cell_type": "code",
   "execution_count": null,
   "metadata": {},
   "outputs": [],
   "source": [
    "print('Curso de '\n",
    "      'Introductorio de Python')"
   ]
  },
  {
   "cell_type": "markdown",
   "metadata": {},
   "source": [
    "Nótese que imprimió todo en un sólo renglón porque nunca se especificó un salto de renglón con \\n, en este caso poner el texto en renglones diferentes no indica salto de renglón.\n",
    "La segunda observación es que se debe de dejar el espacio suficiente para que el texto de los siguientes renglones inicie en la posición del paréntesis, recordemos que al no utilizar llaves **{}** como otros lenguajes, Python requiere una correcta estructuración del código.\n",
    " - La otra forma es usar triple comilla simple o doble:"
   ]
  },
  {
   "cell_type": "code",
   "execution_count": null,
   "metadata": {},
   "outputs": [],
   "source": [
    "\"\"\" \n",
    "Curso Introductorio de Python\n",
    "\"\"\""
   ]
  },
  {
   "cell_type": "markdown",
   "metadata": {},
   "source": [
    "En este caso, escribir en renglones diferentes produce en la impresión un salto de renglón.\n",
    "Este tipo de texto es más utilizado en la descripción general del código, cuando se agrega información del autor y demás."
   ]
  },
  {
   "cell_type": "markdown",
   "metadata": {},
   "source": [
    "___\n",
    "## Concatenar texto\n",
    "\n",
    "[Ir a Inicio](#Contenido)"
   ]
  },
  {
   "cell_type": "markdown",
   "metadata": {},
   "source": [
    "Concatenar texto se refiere a unir dos o más cadenas de caracteres. En Python existen varias maneras de hacerlo:\n",
    "- Usando **+** entre varias cadenas:"
   ]
  },
  {
   "cell_type": "code",
   "execution_count": null,
   "metadata": {},
   "outputs": [],
   "source": [
    "'variable= ' + '5'"
   ]
  },
  {
   "cell_type": "code",
   "execution_count": null,
   "metadata": {},
   "outputs": [],
   "source": [
    "'variable= ' + '5' + '  otra_variable= ' + 'hola'"
   ]
  },
  {
   "cell_type": "markdown",
   "metadata": {},
   "source": [
    "Tambien podemos almacenar el texto en una variable y almacenarlo:"
   ]
  },
  {
   "cell_type": "code",
   "execution_count": null,
   "metadata": {},
   "outputs": [],
   "source": [
    "a = 'variable= '\n",
    "b = '5'\n",
    "print(a + b)"
   ]
  },
  {
   "cell_type": "markdown",
   "metadata": {},
   "source": [
    "Recordemos que **+** concatena únicamente texto, si tenemos un número o cualquier otro objeto tenemos que convertirlo a typo cadena de caracteres primero, para ello usamos el comando **str()**"
   ]
  },
  {
   "cell_type": "code",
   "execution_count": null,
   "metadata": {},
   "outputs": [],
   "source": [
    "'variable= ' + str(5.2)"
   ]
  },
  {
   "cell_type": "code",
   "execution_count": null,
   "metadata": {},
   "outputs": [],
   "source": [
    "'lista= ' + str([1, 'a'])"
   ]
  },
  {
   "cell_type": "markdown",
   "metadata": {},
   "source": [
    "Una variable que almacena una cadena de caracteres puede concatenar texto en ella misma usando **+=**, es decir:"
   ]
  },
  {
   "cell_type": "code",
   "execution_count": null,
   "metadata": {},
   "outputs": [],
   "source": [
    "a = ''  # definir una variable de texto\n",
    "a"
   ]
  },
  {
   "cell_type": "code",
   "execution_count": null,
   "metadata": {},
   "outputs": [],
   "source": [
    "a += 'Curso'  # agrega la palabra 'Curso' a la variable a\n",
    "a"
   ]
  },
  {
   "cell_type": "code",
   "execution_count": null,
   "metadata": {},
   "outputs": [],
   "source": [
    "a += ' de PR'  # agrega mas texto\n",
    "a"
   ]
  },
  {
   "cell_type": "code",
   "execution_count": null,
   "metadata": {},
   "outputs": [],
   "source": [
    "a += '\\n'  # tambien se puede concatenar caracteres especiales\n",
    "a += 'en Ingenieria'\n",
    "a"
   ]
  },
  {
   "cell_type": "markdown",
   "metadata": {},
   "source": [
    "Este tipo de concatenación es muy util para imprimir resultados y escribir archivos de texto.\n",
    "- La otra forma de concatenar texto es dándole formato, como ya se vío en el capítulo de introducción:"
   ]
  },
  {
   "cell_type": "code",
   "execution_count": null,
   "metadata": {},
   "outputs": [],
   "source": [
    "a, b = \"Variable\", 5.43\n",
    "print('%s %.2f'%(a, b))\n",
    "print('{} {:.2f}'.format(a, b))\n",
    "print(f'{a} {b:.2f}')"
   ]
  },
  {
   "cell_type": "markdown",
   "metadata": {},
   "source": [
    "Lo anterior también se puede guardar en variables, incluso el formato y las entradas en variables separadas:"
   ]
  },
  {
   "cell_type": "markdown",
   "metadata": {},
   "source": [
    "fmt = '%s %.2f'  # definimos el formato\n",
    "a = 'Variable'\n",
    "b = 5.43\n",
    "c = fmt%(a,b)  # aqui le damos formato y lo guardamos en una variable\n",
    "print fmt%(a,b)\n",
    "print c"
   ]
  },
  {
   "cell_type": "markdown",
   "metadata": {},
   "source": [
    "Así mismo, podemos soobrescribir una variable que que tenga asignando formatos:"
   ]
  },
  {
   "cell_type": "code",
   "execution_count": null,
   "metadata": {},
   "outputs": [],
   "source": [
    "fmt = 'Precipitacion {} {:.2f}'  # definimos el formato\n",
    "a = fmt.format('Var:',10)        # aqui le damos formato y lo guardamos en una variable\n",
    "a += '\\n'                        # agregamos un salto de linea\n",
    "a += fmt.format('New:',100)      # agregamos mas texto con formato\n",
    "a"
   ]
  },
  {
   "cell_type": "markdown",
   "metadata": {},
   "source": [
    "___\n",
    "## Índices de cadenas de texto\n",
    "\n",
    "[Ir a Inicio](#Contenido)"
   ]
  },
  {
   "cell_type": "markdown",
   "metadata": {},
   "source": [
    "Cuando nos interesa acceder a ciertos caracteres dentro de un texto podemos acerlo indicando la posición de él dentro de la cadena de carcateres.\n",
    "Definamos la siguiente cadena de caracteres:"
   ]
  },
  {
   "cell_type": "code",
   "execution_count": null,
   "metadata": {},
   "outputs": [],
   "source": [
    "t = 'Python'"
   ]
  },
  {
   "cell_type": "markdown",
   "metadata": {},
   "source": [
    "En el texto anterior, cada caracter tiene un índice específico, como se muestra a continuación:\n",
    "\n",
    "|Texto|P|y|t|h|o|n|\n",
    "|:-:|:-:|:-:|:-:|:-:|:-:|:-:|\n",
    "|Indice|0|1|2|3|4|5|\n",
    "|Indice|-6|-5|-4|-3|-2|-1|\n",
    "\n",
    "Como se aprecia, los índices pueden ser positivos o negativos. En el caso positivo, el primer elemento inicia con 0 y el último es el número de elementos menos uno. En los índices negativos el último elemento inicia con -1."
   ]
  },
  {
   "cell_type": "code",
   "execution_count": null,
   "metadata": {},
   "outputs": [],
   "source": [
    "print(t[0])   # imprimir el primer elemento\n",
    "print(t[1])   # imprimir el segundo elemento\n",
    "print(t[5])   # imprimir el último elemento\n",
    "print(t[-6])  # imprimir el primer elemento (usando indices negativos)\n",
    "print(t[-1])  # imprimir el ultimo elemento (usando indices negativos)"
   ]
  },
  {
   "cell_type": "markdown",
   "metadata": {},
   "source": [
    "Vemos que sin importar el número de elementos, el índice 0 siempre denota al primer elemento y el índice -1 llama al último:"
   ]
  },
  {
   "cell_type": "code",
   "execution_count": null,
   "metadata": {},
   "outputs": [],
   "source": [
    "t = 'Hola mundo!'\n",
    "print(t[0])   # primer elemento\n",
    "print(t[-1])  # ultimo elemento"
   ]
  },
  {
   "cell_type": "markdown",
   "metadata": {},
   "source": [
    "Los espacios en blanco cuentan como caracteres:"
   ]
  },
  {
   "cell_type": "code",
   "execution_count": null,
   "metadata": {},
   "outputs": [],
   "source": [
    "print(t[3])\n",
    "print(t[4])  # espacio\n",
    "print(t[5])"
   ]
  },
  {
   "cell_type": "markdown",
   "metadata": {},
   "source": [
    "Recordemos que no necesitamos almacenar un texto para poder llamar a sus elementos:"
   ]
  },
  {
   "cell_type": "code",
   "execution_count": null,
   "metadata": {},
   "outputs": [],
   "source": [
    "print('Hola mundo!'[0])   # imprime el primer elemento de la cadena de caracteres\n",
    "print('Hola mundo!'[-1])  # imprime el ultimo elemento de la cadena de caracteres"
   ]
  },
  {
   "cell_type": "markdown",
   "metadata": {},
   "source": [
    "### Llamando a múltiples caracteres a la vez\n",
    "\n",
    "[Ir a Inicio](#Contenido)"
   ]
  },
  {
   "cell_type": "markdown",
   "metadata": {},
   "source": [
    "En caso de que interese llamar a varios caracteres dentro de un texto se debe de generar una cadena de índices mediante el uso de dos puntos **:**, como se muestra a continuación:"
   ]
  },
  {
   "cell_type": "code",
   "execution_count": null,
   "metadata": {},
   "outputs": [],
   "source": [
    "t = 'Hola mundo!'  # definimos una cadena de caracteres\n",
    "t[1:7]  # accedemos al texto del indice 2 al 3, el ultimo no se toma!"
   ]
  },
  {
   "cell_type": "markdown",
   "metadata": {},
   "source": [
    "Como se observa, sólo es necesario indicar el inidice inicial y final de un texto para acceder a sus elementos, sin embargo, en este tipo de sintaxis, el último elemento no se llama:"
   ]
  },
  {
   "cell_type": "code",
   "execution_count": null,
   "metadata": {},
   "outputs": [],
   "source": [
    "print(t[1], t[6])  # imprime los elementos con indices 1 y 6\n",
    "print(t[1:6])      # el elemento con indice 6 no se toca!\n",
    "print(t[1:7])      # se debe de agregar un índice más para llegar al elemento desado"
   ]
  },
  {
   "cell_type": "markdown",
   "metadata": {},
   "source": [
    "Cuando se quire llamar a todos los elementos que están a partir de cierto índice, se utiliza"
   ]
  },
  {
   "cell_type": "code",
   "execution_count": null,
   "metadata": {},
   "outputs": [],
   "source": [
    "print(t[4:])  # devuelve todos los caracteres a partir del elemento con índice 4\n",
    "print(t[-7:])  # devuelve todos los caracteres a partir del elemento con índice -7 (o 4 considerando indice positivo)"
   ]
  },
  {
   "cell_type": "markdown",
   "metadata": {},
   "source": [
    "En caso contrario, que se quiera llamar a los elementos que están hasta cierto índice se utiliza:"
   ]
  },
  {
   "cell_type": "code",
   "execution_count": null,
   "metadata": {},
   "outputs": [],
   "source": [
    "print(t[:5])   # devuelve todos los caracteres hasta el elemento con índice 5-1 (es decir 4)\n",
    "print(t[:-6])  # devuelve todos los caracteres hasta el elemento con índice -8 (o -7-1)"
   ]
  },
  {
   "cell_type": "markdown",
   "metadata": {},
   "source": [
    "Se debe de tener cuidado cuando se quiera llamar a todos los elementos de una cadena de caracteres:"
   ]
  },
  {
   "cell_type": "code",
   "execution_count": null,
   "metadata": {},
   "outputs": [],
   "source": [
    "print(t)       # esto llama a la variable t\n",
    "print(t[:])    # esto llama a todos los elementos de la cadena de caracteres\n",
    "print(t[0:])   # es lo mismo que t[:]\n",
    "print(t[:11])  # es lo mismo que t[:]"
   ]
  },
  {
   "cell_type": "markdown",
   "metadata": {},
   "source": [
    "___\n",
    "## Eliminar elementos dentro de una cadena de caracteres\n",
    "\n",
    "[Ir a Inicio](#Contenido)"
   ]
  },
  {
   "cell_type": "markdown",
   "metadata": {},
   "source": [
    "Las cadenas de caracteres no permiten eliminar sus elementos ni reemplazarlos mediante una asignación, por lo que no está permitido usar **del(texto[indice])** o **texto[0] = nuevo_caracter**."
   ]
  },
  {
   "cell_type": "markdown",
   "metadata": {},
   "source": [
    "___\n",
    "## Métodos de cadenas de caracteres\n",
    "\n",
    "[Ir a Inicio](#Contenido)"
   ]
  },
  {
   "cell_type": "markdown",
   "metadata": {},
   "source": [
    "A continuación se presentan algunos de los métodos que se necesitaran en el curso referente a las cadenas de caracteres, suponiendo que se define una cadena en la variable **t**:\n",
    "\n",
    "|Método|Descripción|\n",
    "|:-:|:-|\n",
    "|len(t)| Obtiene el número de elmentos|\n",
    "|n\\*t| Repite la cadena de caracteres n veces|\n",
    "|t.count('a')| Devuelve el número de veces que se repite 'a' en t|\n",
    "|t.endswith('a')| Devuelve True/False si es que t termina con 'a'|\n",
    "|t.find('a')| Devuelve el índice de la primer coincidencia de 'a' dentro de t, en caso de no encontrar a 'a' devuelve -1|\n",
    "|t.index('a')|Similar a **find()**, con la diferencia de que de no encontrar a 'a' marca un error|\n",
    "|t.isalnum()| Devuelve True/False en caso de que el texto se puede convertir a número|\n",
    "|','.join(['a','b'])| Une los elementos de una lista (los elementos deben de ser string) en una cadena de caracteres usando un delimitador definido por el usiario|\n",
    "|t.lower()| Convierte todos lo caracteres en minúsculas|\n",
    "|t.replace('a','b')| Busca todas las cadenas 'a' dentro de **t** y las remplaza por 'b'|\n",
    "|t.split(',')| Separa los elementos de una cadena de caracteres usando un delimitador y devuelve una lista|\n",
    "|t.upper()| Convierte todos los caracteres a mayusculas|\n"
   ]
  },
  {
   "cell_type": "code",
   "execution_count": null,
   "metadata": {},
   "outputs": [],
   "source": [
    "t = 'Python rules!'  # definir un texto de ejemplo"
   ]
  },
  {
   "cell_type": "code",
   "execution_count": null,
   "metadata": {
    "scrolled": true
   },
   "outputs": [],
   "source": [
    "print(len(t))  # numero de elementos\n",
    "print(3*t)     # repetir 4 veces t\n",
    "print(t.count('e'))  # contar cuantas 'e' hay en t\n",
    "print(t.count('X'))  # cuando una cadena no existe devuelve 0\n",
    "print(t.count('les'))  # se puede buscar una cadena de más de un elemento\n",
    "print(t.lower())  # convertir todo a minusculas\n",
    "print(t.upper())  # convertir todo a mayusculas"
   ]
  },
  {
   "cell_type": "code",
   "execution_count": null,
   "metadata": {},
   "outputs": [],
   "source": [
    "print(t.endswith('!'))  # verificar si t termina con '!'\n",
    "print(t.endswith('s'))  # cuando no termina con el caracter indicado devuelve False\n",
    "print(t.endswith('rules!'))  # se puede verificar si termina con una cadena de varios elementos"
   ]
  },
  {
   "cell_type": "code",
   "execution_count": null,
   "metadata": {},
   "outputs": [],
   "source": [
    "print(t.find('y'))    # devuelve el indice del caracter 'y'\n",
    "print(t.find('p'))    # Python es sensible a las minusculas y mayusculas\n",
    "print(t.find('P'))    # en este caso si encuentra a 'P'\n",
    "print(t.find('rul'))  # puede buscar el comienzo de una cadena dentro de t"
   ]
  },
  {
   "cell_type": "code",
   "execution_count": null,
   "metadata": {},
   "outputs": [],
   "source": [
    "print(t.isalnum())      # verificar si t es convertible a numero entero\n",
    "print('5'.isalnum())    # si es un numero entero\n",
    "print('5.2'.isalnum())  # no es un numero entero"
   ]
  },
  {
   "cell_type": "code",
   "execution_count": null,
   "metadata": {},
   "outputs": [],
   "source": [
    "a = ['a','b','10']\n",
    "print(','.join(a)) # une el texto de la lista usando ',' como delimitador\n",
    "print('.'.join(a)) # une el texto de la lista usando '.' como delimitador\n",
    "print(' '.join(a)) # une el texto de la lista usando ' ' como delimitador\n",
    "print('\\t'.join(a)) # une el texto de la lista usando tabulador como delimitador"
   ]
  },
  {
   "cell_type": "code",
   "execution_count": null,
   "metadata": {},
   "outputs": [],
   "source": [
    "print(t.replace('l','m'))  # reemplaza todas las 'l' por 'm'\n",
    "print(t)                   # tener cuidado con este tipo de operaciones, pues el texto original no ha sido afectado\n",
    "t = t.replace('l','m')    # asi nos aseguramos de guardar los cambios\n",
    "print(t)"
   ]
  },
  {
   "cell_type": "code",
   "execution_count": null,
   "metadata": {},
   "outputs": [],
   "source": [
    "row = 'a,b,10'        # definir texto delimitado\n",
    "print(row.split(','))  # separa un texto \n",
    "print(row.split(';'))  # si no se elige el separador adecuado no separa los elementos"
   ]
  },
  {
   "cell_type": "markdown",
   "metadata": {},
   "source": [
    "### Más métodos\n",
    "\n",
    "[Ir a Inicio](#Contenido)"
   ]
  },
  {
   "cell_type": "markdown",
   "metadata": {},
   "source": [
    "Se puede usar el comando **help** para obtener ayuda de todos los métodos disponibles en las cadenas de caracteres:"
   ]
  },
  {
   "cell_type": "code",
   "execution_count": null,
   "metadata": {},
   "outputs": [],
   "source": [
    "help(str)"
   ]
  },
  {
   "cell_type": "markdown",
   "metadata": {},
   "source": [
    "Si ya se tiene definida una variable con una cadena de caracteres se puede acceder a la ayuda de alguno de sus métodos:"
   ]
  },
  {
   "cell_type": "code",
   "execution_count": null,
   "metadata": {},
   "outputs": [],
   "source": [
    "t = 'Python'\n",
    "help(t.lower)  # no se usa el parentesis para visualiza la ayuda"
   ]
  },
  {
   "cell_type": "markdown",
   "metadata": {},
   "source": [
    "### Múltiples métodos en una sola línea\n",
    "\n",
    "[Ir a Inicio](#Contenido)"
   ]
  },
  {
   "cell_type": "markdown",
   "metadata": {},
   "source": [
    "Cuando se quiere ahorrar espacio en el código evitando guardar resultados no deseados se puede hacer de la siguiente manera:"
   ]
  },
  {
   "cell_type": "code",
   "execution_count": null,
   "metadata": {},
   "outputs": [],
   "source": [
    "t = 'Python'"
   ]
  },
  {
   "cell_type": "markdown",
   "metadata": {},
   "source": [
    "Veamos el tipo de elemento que resulta de usar algún método:"
   ]
  },
  {
   "cell_type": "code",
   "execution_count": null,
   "metadata": {},
   "outputs": [],
   "source": [
    "print(type(t))\n",
    "print(type(t[0]))\n",
    "print(type(t.upper()))"
   ]
  },
  {
   "cell_type": "markdown",
   "metadata": {},
   "source": [
    "Como se observa todos los resultados anteriores son objetos tipo str (string), por lo que se les puede aplicar los mismos métodos."
   ]
  },
  {
   "cell_type": "code",
   "execution_count": null,
   "metadata": {},
   "outputs": [],
   "source": [
    "t = 'Pythom'\n",
    "t = t.lower()           # convertir a minusculas\n",
    "t = t.replace('m','n')  # convertir la 'm' en 'n'\n",
    "c = t.count('n')        # contar el numero de 'n' en t\n",
    "print(t)\n",
    "print(c)"
   ]
  },
  {
   "cell_type": "markdown",
   "metadata": {},
   "source": [
    "Lo anterior se puede escribir en una única linea como:"
   ]
  },
  {
   "cell_type": "code",
   "execution_count": null,
   "metadata": {},
   "outputs": [],
   "source": [
    "t = 'Pythom'\n",
    "c = t.lower().replace('m','n').count('n')\n",
    "print(t)\n",
    "print(c)"
   ]
  },
  {
   "cell_type": "markdown",
   "metadata": {},
   "source": [
    "La sintaxis anterior se puede aplicar a CUALQUIER OBJETO, siempre y cuando se le apliquen métodos correspondientes a su TIPO."
   ]
  },
  {
   "cell_type": "code",
   "execution_count": null,
   "metadata": {},
   "outputs": [],
   "source": [
    "lista = ['hola', 'mundo']\n",
    "lista[0].upper()"
   ]
  }
 ],
 "metadata": {
  "kernelspec": {
   "display_name": "Python 3",
   "language": "python",
   "name": "python3"
  },
  "language_info": {
   "codemirror_mode": {
    "name": "ipython",
    "version": 3
   },
   "file_extension": ".py",
   "mimetype": "text/x-python",
   "name": "python",
   "nbconvert_exporter": "python",
   "pygments_lexer": "ipython3",
   "version": "3.7.7"
  }
 },
 "nbformat": 4,
 "nbformat_minor": 4
}
