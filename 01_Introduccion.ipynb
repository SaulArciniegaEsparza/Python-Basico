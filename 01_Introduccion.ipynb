{
 "cells": [
  {
   "cell_type": "markdown",
   "metadata": {},
   "source": [
    "# **Curso Básico de Python: Introducción**\n",
    "\n",
    "___\n",
    "\n",
    "**Saúl Arciniega Esparza** | Ph.D. Profesor Asociado C Tiempo Completo\n",
    "\n",
    "* [Twitter](https://twitter.com/zaul_arciniega) | [LinkedIn](https://www.linkedin.com/in/saularciniegaesparza/) | [ResearchGate](https://www.researchgate.net/profile/Saul-Arciniega-Esparza)\n",
    "* [Hydrogeology Group](https://www.ingenieria.unam.mx/hydrogeology/), [Facultad de Ingeniería de la UNAM](https://www.ingenieria.unam.mx/)\n",
    "___\n",
    "\n",
    "## **Contenido**\n",
    "\n",
    "* [Introducción a Python](#Introducción-a-Python)\n",
    "* [Insertar comentarios](#Insertar-comentarios)\n",
    "* [Uso de print](#Imprimir-en-línea-con-print)\n",
    "* [Tipos de datos](#Tipos-de-datos)\n",
    "* [Asignación de variables](#Asignación-de-variables)\n",
    "* [Estilo de codificación](#Estilo-de-codificación)"
   ]
  },
  {
   "cell_type": "markdown",
   "metadata": {},
   "source": [
    "___\n",
    "# Introducción a Python\n",
    "\n",
    "[Ir a Inicio](#Contenido)\n",
    "\n",
    "Python es un lenguaje de programación de muy alto nivel fácil de aprender. Cuenta con estructuras de datos eficientes y un enfoque simple pero efectivo enfocado a la **programación orientada a objetos**. \n",
    "\n",
    "La elegante sintaxis de Python y su tipado dinámico, junto con su naturaleza interpretada, hacen de éste un lenguaje ideal para scripting y desarrollo rápido de aplicaciones en diversas áreas.\n",
    "Python permite escribir porgramas compactos y legibles, en comparación con sus programas equivalentes (C, C++ o Java) debido a:\n",
    "\n",
    " - Los tipos de datos de alto nivel permite exporesar operaciones complejas en una sola instrucción.\n",
    " - La agrupación de instrucciones se hace por sangría en vez de llaves de apartura y cierre.\n",
    " - No es necesario declarar variables ni argumentos."
   ]
  },
  {
   "cell_type": "markdown",
   "metadata": {},
   "source": [
    "___\n",
    "## Insertar comentarios\n",
    "\n",
    "[Ir a Inicio](#Contenido)"
   ]
  },
  {
   "cell_type": "markdown",
   "metadata": {},
   "source": [
    "Para hacer más legibles los scripts y los ejemplos se añaden comentarios, los cuales comienzan con **#** el cual puede aparecer al inicio de la línea o después de una cadena de instrucicones. Por ejemplo:"
   ]
  },
  {
   "cell_type": "code",
   "execution_count": null,
   "metadata": {},
   "outputs": [],
   "source": [
    "# Esto es un comentario\n",
    "'hola mundo'  # esto tambien es un comentario"
   ]
  },
  {
   "cell_type": "markdown",
   "metadata": {},
   "source": [
    "Todo lo que se encuentre después de un **#** es convertido en comentario, tal como se muestra en el ejemplo sigiente:"
   ]
  },
  {
   "cell_type": "code",
   "execution_count": null,
   "metadata": {},
   "outputs": [],
   "source": [
    "'hola'\n",
    "# print 'mundo'"
   ]
  },
  {
   "cell_type": "markdown",
   "metadata": {},
   "source": [
    "Cuando se pretende escribir una gran cantidad de comentarios, es preferible utilizar \"\"\" .... \"\"\" en vez de **#**, tal como se muestra en el ejemplo sigioente:"
   ]
  },
  {
   "cell_type": "code",
   "execution_count": null,
   "metadata": {},
   "outputs": [],
   "source": [
    "# Autor: Saul Arciniega Esparza\n",
    "# Institucion: Facultad de Ingeniería, UNAM"
   ]
  },
  {
   "cell_type": "markdown",
   "metadata": {},
   "source": [
    "qe se puede escribir  como:"
   ]
  },
  {
   "cell_type": "code",
   "execution_count": null,
   "metadata": {},
   "outputs": [],
   "source": [
    "\"\"\"\n",
    "Autor: Saul Arciniega Esparza\n",
    "Institucion: Facultad de Ingenieria, UNAM\n",
    "\"\"\""
   ]
  },
  {
   "cell_type": "markdown",
   "metadata": {},
   "source": [
    "Es **altamente recomendable no usar caracteres especiales en los comentarios** ya que la codificación (de lo cual se hablará más adelante) puede generar errores, por lo tanto no se deben de usar símbolos, acentos, etc."
   ]
  },
  {
   "cell_type": "markdown",
   "metadata": {},
   "source": [
    "## Imprimir en línea con print\n",
    "\n",
    "[Ir a Inicio](#Contenido)\n",
    "\n",
    "Cuando un resultado no es guardado en una variable, esta se imprime en la terminal:"
   ]
  },
  {
   "cell_type": "code",
   "execution_count": null,
   "metadata": {},
   "outputs": [],
   "source": [
    "2 + 2"
   ]
  },
  {
   "cell_type": "markdown",
   "metadata": {},
   "source": [
    "Sin embargo, cuando se quieren imprimir varios resulados es preferible usar print:"
   ]
  },
  {
   "cell_type": "code",
   "execution_count": null,
   "metadata": {},
   "outputs": [],
   "source": [
    "2 + 2\n",
    "5 - 1\n",
    "'Hola'  # en este caso sólo se imprime esta ultima linea"
   ]
  },
  {
   "cell_type": "markdown",
   "metadata": {},
   "source": [
    "La función print se utiliza para imprimir resultados en líneas consecutivas."
   ]
  },
  {
   "cell_type": "code",
   "execution_count": null,
   "metadata": {},
   "outputs": [],
   "source": [
    "print('Hola mundo!')\n",
    "print('Clase PR')"
   ]
  },
  {
   "cell_type": "markdown",
   "metadata": {},
   "source": [
    "Se pueden imprimir varios elementos en la misma línea al separarlos con comas:"
   ]
  },
  {
   "cell_type": "code",
   "execution_count": null,
   "metadata": {},
   "outputs": [],
   "source": [
    "print('Altura: ', 1.82, ' Peso: ', 80)"
   ]
  },
  {
   "cell_type": "markdown",
   "metadata": {},
   "source": [
    "___\n",
    "## Tipos de datos\n",
    "\n",
    "[Ir a Inicio](#Contenido)"
   ]
  },
  {
   "cell_type": "markdown",
   "metadata": {},
   "source": [
    "Existen varios tipos de datos en Python que se utilizan para distintos propósitos (almacenar y ordenar datos, cálculo numérico), los que interesan para este curso son los **números flotantes**, **enteros**, **cadenas de texto**, **listas** y **diccionarios**. Adicionalmente se verán otros datos que dependen de librerías específicas, las cuales se comentarán más adelante.\n",
    "\n",
    "Para saber el tipo de un elemento en Python se utiliza el comando **type()**. Por ejemplo:"
   ]
  },
  {
   "cell_type": "code",
   "execution_count": null,
   "metadata": {},
   "outputs": [],
   "source": [
    "type('hola mundo')  # tipo de dato una cadena de texto"
   ]
  },
  {
   "cell_type": "code",
   "execution_count": null,
   "metadata": {},
   "outputs": [],
   "source": [
    "type(1)             # tipo de dato de un entero"
   ]
  },
  {
   "cell_type": "markdown",
   "metadata": {},
   "source": [
    "### Números "
   ]
  },
  {
   "cell_type": "markdown",
   "metadata": {},
   "source": [
    "Python distingue dos tipos de números: enteros y flotantes. Ambos se pueden utilizar en operaciones aritméticas pero cada uno tiene sus características específicas."
   ]
  },
  {
   "cell_type": "code",
   "execution_count": null,
   "metadata": {},
   "outputs": [],
   "source": [
    "print(2)    # esto es un numero entero\n",
    "print(2.)   # esto es un numero flotante\n",
    "print(2.1)  # este tambien es un numero flotante"
   ]
  },
  {
   "cell_type": "markdown",
   "metadata": {},
   "source": [
    "En el ejemplo anterior se aprecia que los números flotantes se distinguen porque consideran decimales. \n",
    "¿En qué casos se utiliza uno u otro? Los enteros se utilizan principalmente para generar indices para la extracción de elementos en listas o arreglos numéricos, así como crear contadores. Los números flotantes se utilizan frecuentemente para cálculo numérico, en el que los resultados puedan arrojar números fraccionarios.\n",
    "En ocaciones es necesario convertir un tipo de número a otro, para ello existen los comandos **float()** e **int()**."
   ]
  },
  {
   "cell_type": "code",
   "execution_count": null,
   "metadata": {},
   "outputs": [],
   "source": [
    "float(5)  # convertir de entero a flotante"
   ]
  },
  {
   "cell_type": "code",
   "execution_count": null,
   "metadata": {},
   "outputs": [],
   "source": [
    "int(5.) # convertir de flotante a entero"
   ]
  },
  {
   "cell_type": "code",
   "execution_count": null,
   "metadata": {},
   "outputs": [],
   "source": [
    "int(10.3243)  # convertir de flotante a entero"
   ]
  },
  {
   "cell_type": "markdown",
   "metadata": {},
   "source": [
    "### Cadenas de texto "
   ]
  },
  {
   "cell_type": "markdown",
   "metadata": {},
   "source": [
    "Las cadenas de texto se definen con **' '** o también con **\" \"**."
   ]
  },
  {
   "cell_type": "code",
   "execution_count": null,
   "metadata": {},
   "outputs": [],
   "source": [
    "print('Esto es una cadena de texto')\n",
    "print(\"Esto tambien es texto\")"
   ]
  },
  {
   "cell_type": "markdown",
   "metadata": {},
   "source": [
    "¿Existe alguna diferencia en usar **\" \"** o **' '**? Sí, aunque es mínima. En la mayoría de los casos se prefiere usar **' '** cuando se trata de un texto que no verá el usuario del código. Por otro lado **' '** se puede utilizar dentro de **\" \"**, lo cual es útil para ciertas aplicaciones. Por ejemplo"
   ]
  },
  {
   "cell_type": "code",
   "execution_count": null,
   "metadata": {},
   "outputs": [],
   "source": [
    "\"1 3 4 'a'\""
   ]
  },
  {
   "cell_type": "markdown",
   "metadata": {},
   "source": [
    "En el ejmplo anterior se hace énfasis 'a' que a es diferente a 1, 3 y 4 dentro de la cadena de texto.\n",
    "Las cadenas de texto pueden ser convertidas a números siempre y cuando sean compatibles, para ello se utilizan los comandos previamente mostrados:"
   ]
  },
  {
   "cell_type": "code",
   "execution_count": null,
   "metadata": {},
   "outputs": [],
   "source": [
    "int(\"103\")  # convierte de cadena de texto a entero"
   ]
  },
  {
   "cell_type": "code",
   "execution_count": null,
   "metadata": {},
   "outputs": [],
   "source": [
    "float(\"103\")  # convierte de cadena de texto a flotante"
   ]
  },
  {
   "cell_type": "markdown",
   "metadata": {},
   "source": [
    "Para convertir de número entero o flotante a cadena de texto se utiliza el comando **str()**:"
   ]
  },
  {
   "cell_type": "code",
   "execution_count": null,
   "metadata": {},
   "outputs": [],
   "source": [
    "str(10.365)  # convierte a cadena de caracteres"
   ]
  },
  {
   "cell_type": "markdown",
   "metadata": {},
   "source": [
    "El comando **str()** se utiliza también para convertir muchos objetos de python a cadenas de caracteres."
   ]
  },
  {
   "cell_type": "markdown",
   "metadata": {},
   "source": [
    "### Listas y tuplas"
   ]
  },
  {
   "cell_type": "markdown",
   "metadata": {},
   "source": [
    "Las listas se utilizan para agrupar distintos datos de python dentro de un mismo objeto.\n",
    "Las listas se definen con **[]** y los elementos son separados por **,**."
   ]
  },
  {
   "cell_type": "code",
   "execution_count": null,
   "metadata": {},
   "outputs": [],
   "source": [
    "[1, 3, 4, 5]  # lista de numeros enteros"
   ]
  },
  {
   "cell_type": "code",
   "execution_count": null,
   "metadata": {},
   "outputs": [],
   "source": [
    "[1., 4.5, 7.8]  # lista de numeros flotantes"
   ]
  },
  {
   "cell_type": "code",
   "execution_count": null,
   "metadata": {},
   "outputs": [],
   "source": [
    "['a', 'hola', 'V']  # lista de caracteres"
   ]
  },
  {
   "cell_type": "markdown",
   "metadata": {},
   "source": [
    "Las listas pueden contener más de un tipo de dato dentro de ellas:"
   ]
  },
  {
   "cell_type": "code",
   "execution_count": null,
   "metadata": {
    "scrolled": true
   },
   "outputs": [],
   "source": [
    "[1, 10.56, 'texto']  # lista de varios elementos"
   ]
  },
  {
   "cell_type": "markdown",
   "metadata": {},
   "source": [
    "Incluso las listas pueden contener listas y otros objetos de Python dentro de ellas. Por ejemplo:"
   ]
  },
  {
   "cell_type": "code",
   "execution_count": null,
   "metadata": {},
   "outputs": [],
   "source": [
    "[3, [7, 10.5], ['a', 'b', 'c']]  # define listas dentro de una lista"
   ]
  },
  {
   "cell_type": "markdown",
   "metadata": {},
   "source": [
    "Las tuplas son muy parecidas a las listas, con la diferencia de que no son editables, es decir, no se les pueden agregar ni eliminar elementos, o modificar sus datos. Las tuplas se definen con **()** y son más utizadas para agrupar salidas de funciones."
   ]
  },
  {
   "cell_type": "code",
   "execution_count": null,
   "metadata": {},
   "outputs": [],
   "source": [
    "(5, 6, 2) # tupla de enteros"
   ]
  },
  {
   "cell_type": "markdown",
   "metadata": {},
   "source": [
    "Otros ejemplos de tuplas"
   ]
  },
  {
   "cell_type": "code",
   "execution_count": null,
   "metadata": {},
   "outputs": [],
   "source": [
    "(9.43, 5.32, 'a')  # tupla de varios elementos"
   ]
  },
  {
   "cell_type": "code",
   "execution_count": null,
   "metadata": {},
   "outputs": [],
   "source": [
    "([3, 4, 5],['a', 'b']) # tupla con listas"
   ]
  },
  {
   "cell_type": "code",
   "execution_count": null,
   "metadata": {},
   "outputs": [],
   "source": [
    "[(3, 4, 5),('a', 'b')]  # lista de tuplas"
   ]
  },
  {
   "cell_type": "markdown",
   "metadata": {},
   "source": [
    "Es importante al inicio que trabajamos con Python, revisar los tipos de datos que estamos trabajando:"
   ]
  },
  {
   "cell_type": "code",
   "execution_count": null,
   "metadata": {},
   "outputs": [],
   "source": [
    "type([2,5])"
   ]
  },
  {
   "cell_type": "code",
   "execution_count": null,
   "metadata": {},
   "outputs": [],
   "source": [
    "type((2,5))"
   ]
  },
  {
   "cell_type": "markdown",
   "metadata": {},
   "source": [
    "Se puede convertir una lista a una tupla y viceversa utilizando los comandos **list()** y **tuple()**"
   ]
  },
  {
   "cell_type": "code",
   "execution_count": null,
   "metadata": {},
   "outputs": [],
   "source": [
    "lista = [2, 5]\n",
    "tuple(lista)  # convertir de lista a tupla"
   ]
  },
  {
   "cell_type": "code",
   "execution_count": null,
   "metadata": {},
   "outputs": [],
   "source": [
    "tupla = (2, 5)\n",
    "list(tupla)   # convertir de tupla a lista"
   ]
  },
  {
   "cell_type": "markdown",
   "metadata": {},
   "source": [
    "### Diccionarios "
   ]
  },
  {
   "cell_type": "markdown",
   "metadata": {},
   "source": [
    "Los diccionarios son otra manera de agrupar elementos, con la diferencia de que los índices de los elementos se predefinen por el usuario.\n",
    "Para crear un diccionario se utilizan **{}** en donde cada elemento se separa por **,** y para asignar valores a un índice o **key** se utilizan **:**. Por ejemplo:"
   ]
  },
  {
   "cell_type": "code",
   "execution_count": null,
   "metadata": {
    "scrolled": true
   },
   "outputs": [],
   "source": [
    "{'a' : 1, 'variable' : 20.45, 'lista' : [304.3, 394.324]}"
   ]
  },
  {
   "cell_type": "markdown",
   "metadata": {},
   "source": [
    "Se puede crear también un diccionario a partir de índices numéricos como:"
   ]
  },
  {
   "cell_type": "code",
   "execution_count": null,
   "metadata": {},
   "outputs": [],
   "source": [
    "{0 : 1, 1 : 20.45, 2 : [304.3, 394.324]}"
   ]
  },
  {
   "cell_type": "markdown",
   "metadata": {},
   "source": [
    "Igualmente se pueden usar listas de listas para crear un diccionario mediante el comando **dict()**:"
   ]
  },
  {
   "cell_type": "code",
   "execution_count": null,
   "metadata": {},
   "outputs": [],
   "source": [
    "dict([['a', 1], ['b', 150.2]])  # lista de listas a diccionario"
   ]
  },
  {
   "cell_type": "markdown",
   "metadata": {},
   "source": [
    "En los capítulos siguientes se abordarán con más detalle cada uno de los tipos de objetos antes mostrados."
   ]
  },
  {
   "cell_type": "markdown",
   "metadata": {},
   "source": [
    "___\n",
    "## Asignación de variables\n",
    "\n",
    "[Ir a Inicio](#Contenido)"
   ]
  },
  {
   "cell_type": "markdown",
   "metadata": {},
   "source": [
    "Las variables se definen escribiendo del lado izquierdo su nombre, después se escribe el signo **=** y finalmente el resultado/objeto a guardar.\n"
   ]
  },
  {
   "cell_type": "code",
   "execution_count": null,
   "metadata": {},
   "outputs": [],
   "source": [
    "variable = 5.0"
   ]
  },
  {
   "cell_type": "markdown",
   "metadata": {},
   "source": [
    "El nombre de las variables pueden contener caracteres alfa-numéricos sin espacio entre ellos."
   ]
  },
  {
   "cell_type": "code",
   "execution_count": null,
   "metadata": {},
   "outputs": [],
   "source": [
    "a = 46.7\n",
    "b = 394.56\n",
    "variable_aumento = [3,4,6,7]\n",
    "var_1 = 't'\n",
    "var_2 = '4'"
   ]
  },
  {
   "cell_type": "markdown",
   "metadata": {},
   "source": [
    "Así mismo, python es sensible a las mayúsculas y minúsculas, por lo que no es lo mismo definir A que a:"
   ]
  },
  {
   "cell_type": "code",
   "execution_count": null,
   "metadata": {},
   "outputs": [],
   "source": [
    "a = 563.24\n",
    "A = 3.125\n",
    "print(a)\n",
    "print(A)"
   ]
  },
  {
   "cell_type": "markdown",
   "metadata": {},
   "source": [
    "Aunque el estilo y la forma de nombrar a las variables depende del programador, se sugiere utilizar la siguiente sintaxis:"
   ]
  },
  {
   "cell_type": "code",
   "execution_count": null,
   "metadata": {},
   "outputs": [],
   "source": [
    "# Las constantes dentro de los programas suelen ir en mayusculas\n",
    "ALTURA = 2.5\n",
    "\n",
    "# Las funciones se suelen definir con minusculas separadas por _\n",
    "calcular_peso = lambda x: x + 5\n",
    "\n",
    "# La declaración de una clase\n",
    "class LluviaEscurrimiento(object):\n",
    "    pass"
   ]
  },
  {
   "cell_type": "markdown",
   "metadata": {},
   "source": [
    "Por lo demás, el programador puede usar cualquier sintaxis mientras sea legible para el resto de los usuarios, aunque se recomienda que éstos no sean muy extensos."
   ]
  },
  {
   "cell_type": "markdown",
   "metadata": {},
   "source": [
    "### Asignar varias variables en una línea\n",
    "\n",
    "[Ir a Inicio](#Contenido)"
   ]
  },
  {
   "cell_type": "markdown",
   "metadata": {},
   "source": [
    "Se pueden asignar varias variables en una línea para ahorar espacio. Para ello basta con separar los elementos con comas"
   ]
  },
  {
   "cell_type": "code",
   "execution_count": null,
   "metadata": {},
   "outputs": [],
   "source": [
    "a, b, c = 4395, 'hola', [2,4,5]\n",
    "print(a)\n",
    "print(b)\n",
    "print(c)"
   ]
  },
  {
   "cell_type": "markdown",
   "metadata": {},
   "source": [
    "Los elementos de una lista o tupla se pueden almacenar en distitnas variables, siempre y cuando el número de elementos coincida con el número de variables:"
   ]
  },
  {
   "cell_type": "code",
   "execution_count": null,
   "metadata": {},
   "outputs": [],
   "source": [
    "lista = [4395, 'hola', [2,4,5]]\n",
    "a, b, c = lista\n",
    "print(lista)\n",
    "print(a)\n",
    "print(b)\n",
    "print(c)"
   ]
  },
  {
   "cell_type": "markdown",
   "metadata": {},
   "source": [
    "### Eliminar variables\n",
    "\n",
    "[Ir a Inicio](#Contenido)"
   ]
  },
  {
   "cell_type": "markdown",
   "metadata": {},
   "source": [
    "En ocaciones será necesario eliminar una o varias variables que no necesitemos para liberar espacio en la memoria, para ello utilizamos el comando **del()**"
   ]
  },
  {
   "cell_type": "code",
   "execution_count": null,
   "metadata": {},
   "outputs": [],
   "source": [
    "a = 254.45  # definimos la variable a\n",
    "a"
   ]
  },
  {
   "cell_type": "code",
   "execution_count": null,
   "metadata": {},
   "outputs": [],
   "source": [
    "del(a)  # borramos la variable a"
   ]
  },
  {
   "cell_type": "markdown",
   "metadata": {},
   "source": [
    "Si intentamos imprimir nuevamente la variable **a** nos va a generar un error, pues ya no existe en nuestro entorno:"
   ]
  },
  {
   "cell_type": "code",
   "execution_count": null,
   "metadata": {},
   "outputs": [],
   "source": [
    "a  # esto genera un error pues ya no existe \"a\""
   ]
  },
  {
   "cell_type": "markdown",
   "metadata": {},
   "source": [
    "Más adelante veremos que es posible eliminar elementos específicos de alguna lista, tupla o diccionario."
   ]
  },
  {
   "cell_type": "markdown",
   "metadata": {},
   "source": [
    "___\n",
    "## Estilo de codificación\n",
    "\n",
    "[Ir a Inicio](#Contenido)"
   ]
  },
  {
   "cell_type": "markdown",
   "metadata": {},
   "source": [
    "La mayoría de los lenguajes pueden ser escritos (o formateados) con diferentes estilos, algunos más fáciles de leer que otros. Hacer que tu código sea más fácil de leer por otros es una buena práctica y adoptar un buen estilo de codificación ayuda a lograrlo.\n",
    "Para python **PEP 8** se erigió como la guía de estilo a la que más proyectos se adhirieron; promueve un estilo de codificación fácil de leer y es visualmente agradable. Todos los desarroladores Python deben leerlo en algún momento. Algunos de sus puntos más importantes son:\n",
    " - Usar sangrías de 4 espacios, no tabs. 4 espacios son un buen compromiso entre una sangría pequeña y una grande. Los tabs introducen confusión y es mejor no usarlos.\n",
    " - Recortar las líneas para que no superen los 79 caracteres. Esto ayuda a los usuarios con pantallas pequeñas y hace posible tener varios archivos de códigos abiertos.\n",
    " - Usar líneas en blanco para separar funciones y clases, y bloques grandes de código dentro de funciones.\n",
    " - Cuando sea posible poner comentarios en una sóla línea.\n",
    " - Usar espacios alrededor de operadores y después de las comas, pero no directamente dentro del paréntesis:\n",
    " \n",
    " ```python\n",
    " a = f(1, 3) + g(4, 6)\n",
    " \n",
    " lista = [5, 6.7, 10.3]\n",
    " ```\n",
    " \n",
    " \n",
    " - Se recomienda usar la codificación UTF-8\n",
    " - Usar sólo caracteres ASCII en caso de que otra gente hable otro idioma.\n",
    " - Se dejan dos espacios para colocar los los comentarios después de una instrucción:\n",
    " \n",
    " ```python\n",
    " a = 45 # variable principal\n",
    " ```"
   ]
  },
  {
   "cell_type": "markdown",
   "metadata": {},
   "source": [
    "### Métodos y atributos\n",
    "\n",
    "[Ir a Inicio](#Contenido)"
   ]
  },
  {
   "cell_type": "markdown",
   "metadata": {},
   "source": [
    "Python está orientado a la programación con objetos, por lo que a diferencia de algunos lenguajes o programas como Matlab (o similares), cada elemento puede tener diferentes _métodos_ y _atributos_.\n",
    "Entenderemos como _atributos_ a aquellas propiedades que tiene un objeto por defecto, y que Python no tiene que estar calculando, por ejemplo, vamos a definir un arreglo numérico con la librería **numpy** de la cual hablaremos en los temas siguientes."
   ]
  },
  {
   "cell_type": "code",
   "execution_count": null,
   "metadata": {},
   "outputs": [],
   "source": [
    "# se importa la libreria numpy, no hagan mucho caso a esto todavía, esto se verá más adelante\n",
    "import numpy as np\n",
    "\n",
    "# aqui simplemente se define un arreglo numerico\n",
    "a = np.array([5,6,7,8])"
   ]
  },
  {
   "cell_type": "markdown",
   "metadata": {},
   "source": [
    "Ahora accedemos al _atributo_ que nos dice el numero de elementos del arreglo:"
   ]
  },
  {
   "cell_type": "code",
   "execution_count": null,
   "metadata": {},
   "outputs": [],
   "source": [
    "a.shape"
   ]
  },
  {
   "cell_type": "markdown",
   "metadata": {},
   "source": [
    "Como se observa, para llamar a un atributo simplemente se coloca **.atributo** después del nombre de la variable y **sin paréntesis**.\n",
    "Esto último es la diferencia principal entre un _método_ y un _atributo_, ya que los métodos conyeban algún tipo de proceso que se define al insertar paréntesis **()** al final, por ejemplo:"
   ]
  },
  {
   "cell_type": "code",
   "execution_count": null,
   "metadata": {},
   "outputs": [],
   "source": [
    "a.min()  # calcula el minimo del arreglo"
   ]
  },
  {
   "cell_type": "markdown",
   "metadata": {},
   "source": [
    "Podemos observar que cuando de _métodos_ se trata, el no usar paréntesis puede probocar resultados inesperados:"
   ]
  },
  {
   "cell_type": "code",
   "execution_count": null,
   "metadata": {
    "scrolled": false
   },
   "outputs": [],
   "source": [
    "a.min  # aqui se llama a la funcion min, pero no se utiliza"
   ]
  },
  {
   "cell_type": "markdown",
   "metadata": {},
   "source": [
    "En los capitulos siguientes se abordará el tema de los _atributos_ y _métodos_ que necesitaremos en el curso, así como las librerías disponibles y cómo importarlas.\n",
    "Editar codigo."
   ]
  }
 ],
 "metadata": {
  "kernelspec": {
   "display_name": "Python 3",
   "language": "python",
   "name": "python3"
  },
  "language_info": {
   "codemirror_mode": {
    "name": "ipython",
    "version": 3
   },
   "file_extension": ".py",
   "mimetype": "text/x-python",
   "name": "python",
   "nbconvert_exporter": "python",
   "pygments_lexer": "ipython3",
   "version": "3.7.7"
  }
 },
 "nbformat": 4,
 "nbformat_minor": 4
}
