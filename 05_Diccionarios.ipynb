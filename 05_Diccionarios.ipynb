{
 "cells": [
  {
   "cell_type": "markdown",
   "metadata": {},
   "source": [
    "# **Curso Básico de Python: Diccionarios**\n",
    "\n",
    "___\n",
    "\n",
    "**Saúl Arciniega Esparza** | Ph.D. Profesor Asociado C Tiempo Completo\n",
    "\n",
    "* [Twitter](https://twitter.com/zaul_arciniega) | [LinkedIn](https://www.linkedin.com/in/saularciniegaesparza/) | [ResearchGate](https://www.researchgate.net/profile/Saul-Arciniega-Esparza)\n",
    "* [Hydrogeology Group](https://www.ingenieria.unam.mx/hydrogeology/), [Facultad de Ingeniería de la UNAM](https://www.ingenieria.unam.mx/)\n",
    "___\n",
    "\n",
    "## **Contenido**\n",
    "\n",
    "* [Diccionarios](#Diccionarios)\n",
    "* [Llamar elementos](#Llamar-elementos-dentro-de-un-diccionario)\n",
    "* [Elminar elementos](#Eliminar-elementos-en-diccionarios)\n",
    "* [Copia superficial y copia profunda](#Copia-superficial-y-profunda)\n",
    "* [Métodos de diccionarios](#Métodos-de-diccionarios)"
   ]
  },
  {
   "cell_type": "markdown",
   "metadata": {},
   "source": [
    "___\n",
    "# Diccionarios\n",
    "\n",
    "[Ir a Inicio](#Contenido)\n",
    "\n",
    "Los diccionarios son otra forma de almacenar valores u objetos en Python y al contrario de lo que sucede con las listas, los valores en los diccionarios no se orden conforme se agregan.\n",
    "\n",
    "## Definir un diccionario\n",
    "\n",
    "[Ir a Inicio](#Contenido)\n",
    "\n",
    "Existen varias formas de crear un diccionario, la más básica de ellas es poner sus elementos entre llaves **{}**, en donde cada elemento está asociado a un nombre o valor entero al que se denomina **key**. Lógicamente, *no pueden existir dos keys iguales*.\n",
    "\n",
    "El **key** se asocia a su correspondiente valor (**value**) usando dos puntos **:**, tal como se muetsra en el ejemplo siguiente:"
   ]
  },
  {
   "cell_type": "code",
   "execution_count": null,
   "metadata": {},
   "outputs": [],
   "source": [
    "diccionario = dict(a=3, b=10, c='hola')\n",
    "print(diccionario)"
   ]
  },
  {
   "cell_type": "markdown",
   "metadata": {},
   "source": [
    "Se puede utilizar esta otra sintaxis para crear un diccionario, la cual permite agregar números enteros como índices:"
   ]
  },
  {
   "cell_type": "code",
   "execution_count": null,
   "metadata": {},
   "outputs": [],
   "source": [
    "diccionario = {\n",
    "    'a' : 3,\n",
    "    'b' : 10,\n",
    "    0 : 'hola'\n",
    "}  # diccionario de ejemplo\n",
    "diccionario"
   ]
  },
  {
   "cell_type": "markdown",
   "metadata": {},
   "source": [
    "En el caso anterior los keys son: 0, 'a' y 'b'.\n",
    "Otra forma de crear el diccionario anterior es agregando cada elemento en una línea diferente:"
   ]
  },
  {
   "cell_type": "code",
   "execution_count": null,
   "metadata": {},
   "outputs": [],
   "source": [
    "diccionario = {}         # se define un diccionario vacio\n",
    "diccionario['a'] = 3     # se agrega el key 'a' con su valor de 3\n",
    "diccionario['b'] = 10    # se agrega el key 'b' con su valor de 10\n",
    "diccionario[0] = 'hola'  # se agrega el key 0 con su valor de 'hola'\n",
    "\n",
    "diccionario"
   ]
  },
  {
   "cell_type": "markdown",
   "metadata": {},
   "source": [
    "Otra forma es usar **dict()** para crear un diccionario a partir de una lista en donde cada elemento es una lista con el **key** y su correspondiente **value**, tal como se muestra en el ejemplo siguiente:"
   ]
  },
  {
   "cell_type": "code",
   "execution_count": null,
   "metadata": {},
   "outputs": [],
   "source": [
    "lista = [['a', 3], ['b', 10], [0, 'hola']]  # definir lista de keys y values\n",
    "diccionario = dict(lista)  # crear diccionario a partir de la lista\n",
    "diccionario"
   ]
  },
  {
   "cell_type": "markdown",
   "metadata": {},
   "source": [
    "Sin embargo, lo anterior no es posible pasar un diccionario a una lista directamente usando **list()**:"
   ]
  },
  {
   "cell_type": "code",
   "execution_count": null,
   "metadata": {},
   "outputs": [],
   "source": [
    "list(diccionario)"
   ]
  },
  {
   "cell_type": "markdown",
   "metadata": {},
   "source": [
    "En el ejemplo anterior se definió el diccionario con sus correspondientes pares de **keys** y **values** dentro de una lista de listas, sin embargo puede ser más conveniente tener una lista de los **keys** y otra para los **values** y combinarlas usando la función **zip()**:"
   ]
  },
  {
   "cell_type": "code",
   "execution_count": null,
   "metadata": {},
   "outputs": [],
   "source": [
    "keys = ['a', 'b', 0]\n",
    "values = [3, 10, 'hola']"
   ]
  },
  {
   "cell_type": "code",
   "execution_count": null,
   "metadata": {},
   "outputs": [],
   "source": [
    "lista = zip(keys, values)  # zip agrupa en pares cada elemento de una lista con su par en la otra lista\n",
    "lista"
   ]
  },
  {
   "cell_type": "code",
   "execution_count": null,
   "metadata": {},
   "outputs": [],
   "source": [
    "diccionario = dict(lista)  # ahora la pasamos a diccionario\n",
    "diccionario"
   ]
  },
  {
   "cell_type": "markdown",
   "metadata": {},
   "source": [
    "___\n",
    "## Llamar elementos dentro de un diccionario\n",
    "\n",
    "[Ir a Inicio](#Contenido)\n",
    "\n",
    "Para llamar a un valor dentro de un diccionario simplemente se puede poner el nombre de la variable del diccionario y el correspondiente **key** entre **[]**, por ejemplo:"
   ]
  },
  {
   "cell_type": "code",
   "execution_count": null,
   "metadata": {},
   "outputs": [],
   "source": [
    "diccionario = {'variable1' : 3, 'variable calor' : 10, 0 : 'hola'}  # diccionario de ejemplo"
   ]
  },
  {
   "cell_type": "code",
   "execution_count": null,
   "metadata": {},
   "outputs": [],
   "source": [
    "print(diccionario['variable1'])       # llamar al elemento con el key 'a'\n",
    "print(diccionario['variable calor'])  # llamar al elemento con el key 'b'\n",
    "print(diccionario[0])                 # llamar al elemento con el key 0"
   ]
  },
  {
   "cell_type": "markdown",
   "metadata": {},
   "source": [
    "Sólo es posible llamar a un elemento a la vez, y en caso de que el **key** ingresado no exista, Python arroja un error como el siguiente:"
   ]
  },
  {
   "cell_type": "code",
   "execution_count": null,
   "metadata": {},
   "outputs": [],
   "source": [
    "diccionario['variable']  # 'variable' no es un key valido"
   ]
  },
  {
   "cell_type": "markdown",
   "metadata": {},
   "source": [
    "Para evitar el error anterior al utilizar un **key** invalido se utiliza el método **.get()**:"
   ]
  },
  {
   "cell_type": "code",
   "execution_count": null,
   "metadata": {},
   "outputs": [],
   "source": [
    "diccionario.get('variable')  # como no existe regresa un None"
   ]
  },
  {
   "cell_type": "markdown",
   "metadata": {},
   "source": [
    "Con el método **.get()** también se puede asignar un valor por defecto en el caso de que el **key** no exista:"
   ]
  },
  {
   "cell_type": "code",
   "execution_count": null,
   "metadata": {},
   "outputs": [],
   "source": [
    "diccionario.get('variable1', -9999)  # se define -9999 para keys invalidos"
   ]
  },
  {
   "cell_type": "markdown",
   "metadata": {},
   "source": [
    "En el ejemplo anterior, los **keys** existentes no se ven afectados:"
   ]
  },
  {
   "cell_type": "code",
   "execution_count": null,
   "metadata": {},
   "outputs": [],
   "source": [
    "diccionario.get('a', -9999)  # se define -9999 para keys invalidos"
   ]
  },
  {
   "cell_type": "markdown",
   "metadata": {},
   "source": [
    "___\n",
    "## Eliminar elementos en diccionarios\n",
    "\n",
    "[Ir a Inicio](#Contenido)\n",
    "\n",
    "Se utiliza la misma sintaxis que en las listas:"
   ]
  },
  {
   "cell_type": "code",
   "execution_count": null,
   "metadata": {},
   "outputs": [],
   "source": [
    "diccionario = {'a' : 3, 'b' : 10, 0 : 'hola'}  # diccionario de ejemplo"
   ]
  },
  {
   "cell_type": "code",
   "execution_count": null,
   "metadata": {},
   "outputs": [],
   "source": [
    "del(diccionario['a'])  # eliminar el elemento con key 0\n",
    "diccionario"
   ]
  },
  {
   "cell_type": "markdown",
   "metadata": {},
   "source": [
    "___\n",
    "## Copia superficial y profunda\n",
    "\n",
    "[Ir a Inicio](#Contenido)\n",
    "\n",
    "Así como en las listas y tuplas, de los diccionarios se pueden realizar copias profundas o superficiales:"
   ]
  },
  {
   "cell_type": "code",
   "execution_count": null,
   "metadata": {},
   "outputs": [],
   "source": [
    "diccionario = {'a' : 3, 'b' : [10, 20], 'c' : 'hola'}  # diccionario de ejemplo"
   ]
  },
  {
   "cell_type": "code",
   "execution_count": null,
   "metadata": {},
   "outputs": [],
   "source": [
    "d = diccionario  # copia superficial del diccionario\n",
    "d['a'] = -10     # recordemos que en las copias superficiales se modifica la nueva variable y la original\n",
    "\n",
    "print('nueva   ', d)\n",
    "print('original', diccionario)"
   ]
  },
  {
   "cell_type": "code",
   "execution_count": null,
   "metadata": {},
   "outputs": [],
   "source": [
    "d['b'][0] = 0   # incluso los elementos que forman parte de otro objeto dentro del diccionario pueden ser afectados\n",
    "print('nueva   ', d)\n",
    "print('original', diccionario)"
   ]
  },
  {
   "cell_type": "code",
   "execution_count": null,
   "metadata": {},
   "outputs": [],
   "source": [
    "# lo anterior equivale a\n",
    "l = d['b']   # se hace una copia superficial de un elemento del diccionario\n",
    "l[1] = 100   # se modifica el elemento de la lista\n",
    "\n",
    "print('lista   ', l)\n",
    "print('nueva   ', d)\n",
    "print('original', diccionario)"
   ]
  },
  {
   "cell_type": "markdown",
   "metadata": {},
   "source": [
    "Para realizar copias profundas se puede utilizar el método **.copy()** o importar el módulo **deepcopy** desde la librería **copy**."
   ]
  },
  {
   "cell_type": "code",
   "execution_count": null,
   "metadata": {},
   "outputs": [],
   "source": [
    "diccionario = {'a' : 3, 'b' : [10, 20], 'c' : 'hola'}  # diccionario de ejemplo"
   ]
  },
  {
   "cell_type": "code",
   "execution_count": null,
   "metadata": {},
   "outputs": [],
   "source": [
    "d = diccionario.copy()  # copia profunda del diccionario\n",
    "d['a'] = -10            # en este casi afectados solo a la copia\n",
    "\n",
    "print('nueva   ', d)\n",
    "print('original', diccionario)"
   ]
  },
  {
   "cell_type": "code",
   "execution_count": null,
   "metadata": {},
   "outputs": [],
   "source": [
    "# Otra forma seria\n",
    "from copy import deepcopy\n",
    "\n",
    "d = deepcopy(diccionario)  # copia profunda del diccionario\n",
    "d['a'] = -1000             # en este casi afectados solo a la copia\n",
    "\n",
    "print('nueva   ', d)\n",
    "print('original', diccionario)"
   ]
  },
  {
   "cell_type": "markdown",
   "metadata": {},
   "source": [
    "___\n",
    "## Métodos de diccionarios\n",
    "\n",
    "[Ir a Inicio](#Contenido)\n",
    "\n",
    "A continuación se enlistan algunos de los métodos más utiles para el curso, referentes a los diccionarios. Para la definición supóngase que se ha definido un diccionario en la variable **d**.\n",
    "\n",
    "| Método | Descripción |\n",
    "| :-: | :- |\n",
    "| len(d) | Regresa el número de elementos en **d** |\n",
    "| dict(l) | Crea un diccionario a partir de una lista de listas |\n",
    "| d.copy() | Realiza una copia profunda de **d** |\n",
    "| d.fromkeys(l) | Utiliza los elementos de la lista l para crear los **keys** del diccionario. Los **values** de cada **key** por defecto son None |\n",
    "| d.get(key) | Regresa el valor del key, en caso de que no exista el key entonces regresa por defecto None |\n",
    "| d.has_key(key) | Si el key existe en el diccionario regresa True, en caso contrario regresa False |\n",
    "| d.items() | Regresa una lista con los keys y values del diccionario |\n",
    "| d.iteritems() | Método que se utiliza para iterar simultanemente los keys y sus correspondientes values |\n",
    "| d.keys() | Regresa una lista con los keys del diccionario |\n",
    "| d.pop(key) | Extrae un valor de forma permanente del diccionario |\n",
    "| d.update(new_dict) | Agrega los elementos de new_dict en d. Los keys existentes en d se actualizan |\n",
    "| d.values() | Regresa una lista con los values de cada key del diccionario| \n"
   ]
  },
  {
   "cell_type": "code",
   "execution_count": null,
   "metadata": {},
   "outputs": [],
   "source": [
    "d = {'a' : 3, 'b' : [10, 20], 'c' : 'hola'}  # diccionario de ejemplo"
   ]
  },
  {
   "cell_type": "code",
   "execution_count": null,
   "metadata": {},
   "outputs": [],
   "source": [
    "len(d)  # numero de elementos en d"
   ]
  },
  {
   "cell_type": "code",
   "execution_count": null,
   "metadata": {},
   "outputs": [],
   "source": [
    "print('c' in d)  # verifica si el key 'c' existe en d\n",
    "print('z' in d)  # verifica si el key 'z' existe en d"
   ]
  },
  {
   "cell_type": "code",
   "execution_count": null,
   "metadata": {
    "scrolled": true
   },
   "outputs": [],
   "source": [
    "list(d.items())  # nos regresa una lista similar a la que se obtuvo con zip() al combinar dos listas"
   ]
  },
  {
   "cell_type": "code",
   "execution_count": null,
   "metadata": {},
   "outputs": [],
   "source": [
    "# Aqui solo se ejemplifica el uso de iteritems(), en los siguientes capitulos se abordara el uso de iteritems()\n",
    "for key, value in d.items():  # iteritems() se utiliza en iteraciones\n",
    "    # en cada iteracion iteritems() devuelte como primer valor al key y como segundo valor al value\n",
    "    print(key, value)"
   ]
  },
  {
   "cell_type": "code",
   "execution_count": null,
   "metadata": {},
   "outputs": [],
   "source": [
    "print(list(d.keys()))    # devuelve una lista con los keys \n",
    "print(list(d.values()))  # devuelve una lista con los values"
   ]
  },
  {
   "cell_type": "code",
   "execution_count": null,
   "metadata": {},
   "outputs": [],
   "source": [
    "val = d.pop('b')  # extraemos el valor del key='b' y lo removemos del diccionario\n",
    "print('diccionario', d)\n",
    "print('variable   ', val)"
   ]
  },
  {
   "cell_type": "code",
   "execution_count": null,
   "metadata": {},
   "outputs": [],
   "source": [
    "newdict = {'b' : [10, 30], 'c' : 'Hola Mundo'}  # creamos un nuevo diccionario\n",
    "d.update(newdict)  # agregamos los valores de newdict al diccionario existente\n",
    "\n",
    "print('original', d)\n",
    "print('nuevo   ', newdict)\n",
    "# vemos que solo d ha sido afectado, los keys existentes fueron actualizados, los no existentes fueron agregados"
   ]
  }
 ],
 "metadata": {
  "kernelspec": {
   "display_name": "Python 3",
   "language": "python",
   "name": "python3"
  },
  "language_info": {
   "codemirror_mode": {
    "name": "ipython",
    "version": 3
   },
   "file_extension": ".py",
   "mimetype": "text/x-python",
   "name": "python",
   "nbconvert_exporter": "python",
   "pygments_lexer": "ipython3",
   "version": "3.7.7"
  }
 },
 "nbformat": 4,
 "nbformat_minor": 4
}
